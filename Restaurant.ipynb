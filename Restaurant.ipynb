{
 "cells": [
  {
   "cell_type": "code",
   "execution_count": 1,
   "id": "a08a647a",
   "metadata": {},
   "outputs": [],
   "source": [
    "import time\n",
    "\n",
    "from osm_runner import Runner  # pip install osm-runner\n",
    "import pandas as pd\n",
    "\n",
    "from arcgis.features import FeatureLayer, GeoAccessor, GeoSeriesAccessor\n",
    "from arcgis.geoenrichment import enrich\n",
    "from arcgis import dissolve_boundaries\n",
    "from arcgis.geometry import project\n",
    "from arcgis.gis import GIS\n",
    "from arcgis.features import FeatureLayer, GeoAccessor, GeoSeriesAccessor\n",
    "from arcgis.geoenrichment import enrich\n",
    "from arcgis import dissolve_boundaries\n",
    "from arcgis.geometry import project\n",
    "from arcgis.gis import GIS\n",
    "import geopy\n",
    "from geopy import distance"
   ]
  },
  {
   "cell_type": "code",
   "execution_count": 2,
   "id": "113d9e1b",
   "metadata": {},
   "outputs": [],
   "source": [
    "def str_to_cord(x):\n",
    "    lat,long = float(x.split(\",\")[0]),float(x.split(\",\")[1])\n",
    "    return lat,long"
   ]
  },
  {
   "cell_type": "markdown",
   "id": "7b84219b",
   "metadata": {},
   "source": [
    "# Restaurant"
   ]
  },
  {
   "cell_type": "code",
   "execution_count": 3,
   "id": "725243fb",
   "metadata": {},
   "outputs": [],
   "source": [
    "import requests\n",
    "import json\n",
    "overpass_url = \"http://overpass-api.de/api/interpreter\"\n",
    "overpass_query = \"\"\"\n",
    "[out:json];\n",
    "area[\"ISO3166-1\"=\"DE\"][admin_level=2];\n",
    "(node[\"amenity\"=\"restaurant\"](area);\n",
    " way[\"amenity\"=\"restaurant\"](area);\n",
    " rel[\"amenity\"=\"restaurant\"](area);\n",
    ");\n",
    "out center;\n",
    "\"\"\"\n",
    "response = requests.get(overpass_url, \n",
    "                        params={'data': overpass_query})\n",
    "data = response.json()"
   ]
  },
  {
   "cell_type": "code",
   "execution_count": 4,
   "id": "837f5184",
   "metadata": {},
   "outputs": [
    {
     "data": {
      "image/png": "[encoded data removed]",
      "text/plain": [
       "<Figure size 432x288 with 1 Axes>"
      ]
     },
     "metadata": {
      "needs_background": "light"
     },
     "output_type": "display_data"
    }
   ],
   "source": [
    "import numpy as np\n",
    "import matplotlib.pyplot as plt\n",
    "# Collect coords into list\n",
    "coords = []\n",
    "for element in data['elements']:\n",
    "    if element['type'] == 'node':\n",
    "        lon = element['lon']\n",
    "        lat = element['lat']\n",
    "        coords.append((lon, lat))\n",
    "    elif 'center' in element:\n",
    "        lon = element['center']['lon']\n",
    "        lat = element['center']['lat']\n",
    "        coords.append((lon, lat))\n",
    "# Convert coordinates into numpy array\n",
    "X = np.array(coords)\n",
    "plt.plot(X[:, 0], X[:, 1], '*')\n",
    "plt.title('Restaurant in Germany')\n",
    "plt.xlabel('Longitude')\n",
    "plt.ylabel('Latitude')\n",
    "plt.axis('equal')\n",
    "plt.show()"
   ]
  },
  {
   "cell_type": "code",
   "execution_count": 5,
   "id": "d2199b52",
   "metadata": {},
   "outputs": [],
   "source": [
    "import pandas as pd\n",
    "df = pd.DataFrame()"
   ]
  },
  {
   "cell_type": "code",
   "execution_count": 6,
   "id": "7ca9f561",
   "metadata": {},
   "outputs": [],
   "source": [
    "df[\"lat\"] = X[:, 1]\n",
    "df[\"long\"] =X[:, 0]\n",
    "df[\"dummy\"] = df.lat.apply(lambda x: str(round(x,5)))\n",
    "df[\"dummy1\"] = df.long.apply(lambda x: \",\" +str(round(x,5)))\n",
    "df[\"dummy2\"] = df.dummy+df.dummy1\n",
    "df[\"cord\"] = df.dummy2.apply(lambda x: str_to_cord(x))\n",
    "df.drop([\"dummy\",\"dummy1\",\"dummy2\"],axis =1,inplace=True)"
   ]
  },
  {
   "cell_type": "code",
   "execution_count": 7,
   "id": "b785ba31",
   "metadata": {},
   "outputs": [],
   "source": [
    "dn =pd.read_pickle(\"stats.pickle\")\n",
    "#dn= dn[[\"city\",\"latitude\",\"longitude\",\"park_id\",\"postal_code\"]]\n",
    "dn[\"dummy\"] = dn.latitude.apply(lambda x: str(round(x,5)))\n",
    "dn[\"dummy1\"] = dn.longitude.apply(lambda x: \",\" +str(round(x,5)))\n",
    "dn[\"dummy2\"] = dn.dummy+dn.dummy1\n",
    "dn[\"cord\"] = dn.dummy2.apply(lambda x: str_to_cord(x))\n",
    "dn.drop([\"dummy\",\"dummy1\",\"dummy2\"],axis =1,inplace=True)"
   ]
  },
  {
   "cell_type": "code",
   "execution_count": 8,
   "id": "3d81c575",
   "metadata": {},
   "outputs": [],
   "source": [
    "def  filter_lat_long(cord,th=0.1):\n",
    "    la1,ln1 = cord\n",
    "    dk = df.copy()\n",
    "    return(\n",
    "    dk\n",
    "        [dk[\"lat\"]<=la1+th]\n",
    "        [dk[\"lat\"]>=la1-th]\n",
    "        [dk[\"long\"]<=ln1+th]\n",
    "        [dk[\"long\"]>=ln1-th])"
   ]
  },
  {
   "cell_type": "code",
   "execution_count": 9,
   "id": "2663845d",
   "metadata": {},
   "outputs": [
    {
     "name": "stderr",
     "output_type": "stream",
     "text": [
      "<ipython-input-8-18750887360f>:5: UserWarning: Boolean Series key will be reindexed to match DataFrame index.\n",
      "  dk\n"
     ]
    },
    {
     "data": {
      "text/html": [
       "<div>\n",
       "<style scoped>\n",
       "    .dataframe tbody tr th:only-of-type {\n",
       "        vertical-align: middle;\n",
       "    }\n",
       "\n",
       "    .dataframe tbody tr th {\n",
       "        vertical-align: top;\n",
       "    }\n",
       "\n",
       "    .dataframe thead th {\n",
       "        text-align: right;\n",
       "    }\n",
       "</style>\n",
       "<table border=\"1\" class=\"dataframe\">\n",
       "  <thead>\n",
       "    <tr style=\"text-align: right;\">\n",
       "      <th></th>\n",
       "      <th>lat</th>\n",
       "      <th>long</th>\n",
       "      <th>cord</th>\n",
       "    </tr>\n",
       "  </thead>\n",
       "  <tbody>\n",
       "    <tr>\n",
       "      <th>443</th>\n",
       "      <td>47.926553</td>\n",
       "      <td>12.447798</td>\n",
       "      <td>(47.92655, 12.4478)</td>\n",
       "    </tr>\n",
       "    <tr>\n",
       "      <th>683</th>\n",
       "      <td>47.872033</td>\n",
       "      <td>12.426119</td>\n",
       "      <td>(47.87203, 12.42612)</td>\n",
       "    </tr>\n",
       "    <tr>\n",
       "      <th>1582</th>\n",
       "      <td>48.030050</td>\n",
       "      <td>12.239417</td>\n",
       "      <td>(48.03005, 12.23942)</td>\n",
       "    </tr>\n",
       "    <tr>\n",
       "      <th>1891</th>\n",
       "      <td>48.062083</td>\n",
       "      <td>12.163021</td>\n",
       "      <td>(48.06208, 12.16302)</td>\n",
       "    </tr>\n",
       "    <tr>\n",
       "      <th>2335</th>\n",
       "      <td>47.777735</td>\n",
       "      <td>12.148695</td>\n",
       "      <td>(47.77774, 12.14869)</td>\n",
       "    </tr>\n",
       "    <tr>\n",
       "      <th>...</th>\n",
       "      <td>...</td>\n",
       "      <td>...</td>\n",
       "      <td>...</td>\n",
       "    </tr>\n",
       "    <tr>\n",
       "      <th>76654</th>\n",
       "      <td>47.757477</td>\n",
       "      <td>12.462093</td>\n",
       "      <td>(47.75748, 12.46209)</td>\n",
       "    </tr>\n",
       "    <tr>\n",
       "      <th>77331</th>\n",
       "      <td>47.859888</td>\n",
       "      <td>12.357033</td>\n",
       "      <td>(47.85989, 12.35703)</td>\n",
       "    </tr>\n",
       "    <tr>\n",
       "      <th>77332</th>\n",
       "      <td>47.858653</td>\n",
       "      <td>12.352454</td>\n",
       "      <td>(47.85865, 12.35245)</td>\n",
       "    </tr>\n",
       "    <tr>\n",
       "      <th>77466</th>\n",
       "      <td>47.785754</td>\n",
       "      <td>12.390856</td>\n",
       "      <td>(47.78575, 12.39086)</td>\n",
       "    </tr>\n",
       "    <tr>\n",
       "      <th>77547</th>\n",
       "      <td>47.784339</td>\n",
       "      <td>12.333883</td>\n",
       "      <td>(47.78434, 12.33388)</td>\n",
       "    </tr>\n",
       "  </tbody>\n",
       "</table>\n",
       "<p>201 rows × 3 columns</p>\n",
       "</div>"
      ],
      "text/plain": [
       "             lat       long                  cord\n",
       "443    47.926553  12.447798   (47.92655, 12.4478)\n",
       "683    47.872033  12.426119  (47.87203, 12.42612)\n",
       "1582   48.030050  12.239417  (48.03005, 12.23942)\n",
       "1891   48.062083  12.163021  (48.06208, 12.16302)\n",
       "2335   47.777735  12.148695  (47.77774, 12.14869)\n",
       "...          ...        ...                   ...\n",
       "76654  47.757477  12.462093  (47.75748, 12.46209)\n",
       "77331  47.859888  12.357033  (47.85989, 12.35703)\n",
       "77332  47.858653  12.352454  (47.85865, 12.35245)\n",
       "77466  47.785754  12.390856  (47.78575, 12.39086)\n",
       "77547  47.784339  12.333883  (47.78434, 12.33388)\n",
       "\n",
       "[201 rows x 3 columns]"
      ]
     },
     "execution_count": 9,
     "metadata": {},
     "output_type": "execute_result"
    }
   ],
   "source": [
    "filter_lat_long(dn.cord.iloc[0],th=0.2)"
   ]
  },
  {
   "cell_type": "code",
   "execution_count": 10,
   "id": "79b86729",
   "metadata": {},
   "outputs": [],
   "source": [
    "def nearest(c,th=0.1):\n",
    "    dk = filter_lat_long(cord = c,th=th)\n",
    "    if(len(dk)>0):\n",
    "        dk[\"distance\"] = dk.cord.apply(lambda x: distance.distance(c,x))\n",
    "        dk = dk.sort_values(\"distance\",ascending = True)\n",
    "        v  = dk.distance.iloc[0].km\n",
    "    else:\n",
    "        v = 1000\n",
    "    return v"
   ]
  },
  {
   "cell_type": "code",
   "execution_count": 11,
   "id": "8d99adc9",
   "metadata": {},
   "outputs": [
    {
     "name": "stderr",
     "output_type": "stream",
     "text": [
      "<ipython-input-8-18750887360f>:5: UserWarning: Boolean Series key will be reindexed to match DataFrame index.\n",
      "  dk\n"
     ]
    },
    {
     "data": {
      "text/plain": [
       "0.041686738518764054"
      ]
     },
     "execution_count": 11,
     "metadata": {},
     "output_type": "execute_result"
    }
   ],
   "source": [
    "nearest(dn.cord.iloc[0],th=0.2)"
   ]
  },
  {
   "cell_type": "code",
   "execution_count": null,
   "id": "13464771",
   "metadata": {},
   "outputs": [
    {
     "name": "stderr",
     "output_type": "stream",
     "text": [
      "<ipython-input-8-18750887360f>:5: UserWarning: Boolean Series key will be reindexed to match DataFrame index.\n",
      "  dk\n"
     ]
    }
   ],
   "source": [
    "dn[\"Nearest_Restaurant_km\"] = dn.cord.apply(lambda x :nearest(x,th=0.2))"
   ]
  },
  {
   "cell_type": "code",
   "execution_count": null,
   "id": "a7ee09f7",
   "metadata": {},
   "outputs": [],
   "source": []
  }
 ],
 "metadata": {
  "kernelspec": {
   "display_name": "Python 3",
   "language": "python",
   "name": "python3"
  },
  "language_info": {
   "codemirror_mode": {
    "name": "ipython",
    "version": 3
   },
   "file_extension": ".py",
   "mimetype": "text/x-python",
   "name": "python",
   "nbconvert_exporter": "python",
   "pygments_lexer": "ipython3",
   "version": "3.8.8"
  }
 },
 "nbformat": 4,
 "nbformat_minor": 5
}
