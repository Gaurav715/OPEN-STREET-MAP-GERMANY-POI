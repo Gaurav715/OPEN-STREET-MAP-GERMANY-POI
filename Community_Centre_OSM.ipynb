{
 "cells": [
  {
   "cell_type": "code",
   "execution_count": 1,
   "id": "e4e8af74",
   "metadata": {},
   "outputs": [],
   "source": [
    "import time\n",
    "\n",
    "from osm_runner import Runner  # pip install osm-runner\n",
    "import pandas as pd\n",
    "\n",
    "from arcgis.features import FeatureLayer, GeoAccessor, GeoSeriesAccessor\n",
    "from arcgis.geoenrichment import enrich\n",
    "from arcgis import dissolve_boundaries\n",
    "from arcgis.geometry import project\n",
    "from arcgis.gis import GIS\n",
    "from arcgis.features import FeatureLayer, GeoAccessor, GeoSeriesAccessor\n",
    "from arcgis.geoenrichment import enrich\n",
    "from arcgis import dissolve_boundaries\n",
    "from arcgis.geometry import project\n",
    "from arcgis.gis import GIS"
   ]
  },
  {
   "cell_type": "code",
   "execution_count": 2,
   "id": "2e4dd5dd",
   "metadata": {},
   "outputs": [],
   "source": [
    "def str_to_cord(x):\n",
    "    lat,long = float(x.split(\",\")[0]),float(x.split(\",\")[1])\n",
    "    return lat,long"
   ]
  },
  {
   "cell_type": "markdown",
   "id": "b18671c8",
   "metadata": {},
   "source": [
    "# Community center"
   ]
  },
  {
   "cell_type": "code",
   "execution_count": 3,
   "id": "7d3bc7cc",
   "metadata": {},
   "outputs": [],
   "source": [
    "import requests\n",
    "import json\n",
    "overpass_url = \"http://overpass-api.de/api/interpreter\"\n",
    "overpass_query = \"\"\"\n",
    "[out:json];\n",
    "area[\"ISO3166-1\"=\"DE\"][admin_level=2];\n",
    "(node[\"amenity\"=\"community_centre\"](area);\n",
    " way[\"amenity\"=\"community_centre\"](area);\n",
    " rel[\"amenity\"=\"community_centre\"](area);\n",
    ");\n",
    "out center;\n",
    "\"\"\"\n",
    "response = requests.get(overpass_url, \n",
    "                        params={'data': overpass_query})\n",
    "community_centre_data = response.json()"
   ]
  },
  {
   "cell_type": "code",
   "execution_count": 4,
   "id": "60f93479",
   "metadata": {},
   "outputs": [
    {
     "data": {
      "image/png": "[encoded data removed]",
      "text/plain": [
       "<Figure size 432x288 with 1 Axes>"
      ]
     },
     "metadata": {
      "needs_background": "light"
     },
     "output_type": "display_data"
    }
   ],
   "source": [
    "import numpy as np\n",
    "import matplotlib.pyplot as plt\n",
    "# Collect coords into list\n",
    "coords = []\n",
    "for element in community_centre_data['elements']:\n",
    "    if element['type'] == 'node':\n",
    "        lon = element['lon']\n",
    "        lat = element['lat']\n",
    "        coords.append((lon, lat))\n",
    "    elif 'center' in element:\n",
    "        lon = element['center']['lon']\n",
    "        lat = element['center']['lat']\n",
    "        coords.append((lon, lat))\n",
    "# Convert coordinates into numpy array\n",
    "X = np.array(coords)\n",
    "plt.plot(X[:, 0], X[:, 1], 'o')\n",
    "plt.title('community_centre in Germany')\n",
    "plt.xlabel('Longitude')\n",
    "plt.ylabel('Latitude')\n",
    "plt.axis('equal')\n",
    "plt.show()"
   ]
  },
  {
   "cell_type": "code",
   "execution_count": 5,
   "id": "ff75a167",
   "metadata": {},
   "outputs": [],
   "source": [
    "import pandas as pd\n",
    "df = pd.DataFrame()"
   ]
  },
  {
   "cell_type": "code",
   "execution_count": 6,
   "id": "590ea84d",
   "metadata": {},
   "outputs": [],
   "source": [
    "df[\"lat\"] = X[:, 1]\n",
    "df[\"long\"] =X[:, 0]\n",
    "df[\"dummy\"] = df.lat.apply(lambda x: str(round(x,5)))\n",
    "df[\"dummy1\"] = df.long.apply(lambda x: \",\" +str(round(x,5)))\n",
    "df[\"dummy2\"] = df.dummy+df.dummy1\n",
    "df[\"cord\"] = df.dummy2.apply(lambda x: str_to_cord(x))\n",
    "df.drop([\"dummy\",\"dummy1\",\"dummy2\"],axis =1,inplace=True)"
   ]
  },
  {
   "cell_type": "code",
   "execution_count": 7,
   "id": "3fb61c73",
   "metadata": {},
   "outputs": [
    {
     "data": {
      "text/html": [
       "<div>\n",
       "<style scoped>\n",
       "    .dataframe tbody tr th:only-of-type {\n",
       "        vertical-align: middle;\n",
       "    }\n",
       "\n",
       "    .dataframe tbody tr th {\n",
       "        vertical-align: top;\n",
       "    }\n",
       "\n",
       "    .dataframe thead th {\n",
       "        text-align: right;\n",
       "    }\n",
       "</style>\n",
       "<table border=\"1\" class=\"dataframe\">\n",
       "  <thead>\n",
       "    <tr style=\"text-align: right;\">\n",
       "      <th></th>\n",
       "      <th>lat</th>\n",
       "      <th>long</th>\n",
       "      <th>cord</th>\n",
       "    </tr>\n",
       "  </thead>\n",
       "  <tbody>\n",
       "    <tr>\n",
       "      <th>0</th>\n",
       "      <td>49.663964</td>\n",
       "      <td>8.446186</td>\n",
       "      <td>(49.66396, 8.44619)</td>\n",
       "    </tr>\n",
       "    <tr>\n",
       "      <th>1</th>\n",
       "      <td>49.034349</td>\n",
       "      <td>8.371743</td>\n",
       "      <td>(49.03435, 8.37174)</td>\n",
       "    </tr>\n",
       "    <tr>\n",
       "      <th>2</th>\n",
       "      <td>48.819820</td>\n",
       "      <td>9.419496</td>\n",
       "      <td>(48.81982, 9.4195)</td>\n",
       "    </tr>\n",
       "    <tr>\n",
       "      <th>3</th>\n",
       "      <td>52.274467</td>\n",
       "      <td>8.084950</td>\n",
       "      <td>(52.27447, 8.08495)</td>\n",
       "    </tr>\n",
       "    <tr>\n",
       "      <th>4</th>\n",
       "      <td>52.285763</td>\n",
       "      <td>10.455139</td>\n",
       "      <td>(52.28576, 10.45514)</td>\n",
       "    </tr>\n",
       "  </tbody>\n",
       "</table>\n",
       "</div>"
      ],
      "text/plain": [
       "         lat       long                  cord\n",
       "0  49.663964   8.446186   (49.66396, 8.44619)\n",
       "1  49.034349   8.371743   (49.03435, 8.37174)\n",
       "2  48.819820   9.419496    (48.81982, 9.4195)\n",
       "3  52.274467   8.084950   (52.27447, 8.08495)\n",
       "4  52.285763  10.455139  (52.28576, 10.45514)"
      ]
     },
     "execution_count": 7,
     "metadata": {},
     "output_type": "execute_result"
    }
   ],
   "source": [
    "df.head()"
   ]
  },
  {
   "cell_type": "code",
   "execution_count": 8,
   "id": "ed54d109",
   "metadata": {},
   "outputs": [],
   "source": [
    "dn =pd.read_pickle(\"stats.pickle\")\n",
    "#dn= dn[[\"city\",\"latitude\",\"longitude\",\"park_id\",\"postal_code\"]]\n",
    "dn[\"dummy\"] = dn.latitude.apply(lambda x: str(round(x,5)))\n",
    "dn[\"dummy1\"] = dn.longitude.apply(lambda x: \",\" +str(round(x,5)))\n",
    "dn[\"dummy2\"] = dn.dummy+dn.dummy1\n",
    "dn[\"cord\"] = dn.dummy2.apply(lambda x: str_to_cord(x))\n",
    "dn.drop([\"dummy\",\"dummy1\",\"dummy2\"],axis =1,inplace=True)"
   ]
  },
  {
   "cell_type": "code",
   "execution_count": 9,
   "id": "d6172d8d",
   "metadata": {
    "scrolled": true
   },
   "outputs": [
    {
     "data": {
      "text/html": [
       "<div>\n",
       "<style scoped>\n",
       "    .dataframe tbody tr th:only-of-type {\n",
       "        vertical-align: middle;\n",
       "    }\n",
       "\n",
       "    .dataframe tbody tr th {\n",
       "        vertical-align: top;\n",
       "    }\n",
       "\n",
       "    .dataframe thead th {\n",
       "        text-align: right;\n",
       "    }\n",
       "</style>\n",
       "<table border=\"1\" class=\"dataframe\">\n",
       "  <thead>\n",
       "    <tr style=\"text-align: right;\">\n",
       "      <th></th>\n",
       "      <th>evse_id</th>\n",
       "      <th>datetime_start</th>\n",
       "      <th>datetime_stop</th>\n",
       "      <th>city</th>\n",
       "      <th>park_id</th>\n",
       "      <th>latitude</th>\n",
       "      <th>longitude</th>\n",
       "      <th>postal_code</th>\n",
       "      <th>year</th>\n",
       "      <th>month</th>\n",
       "      <th>...</th>\n",
       "      <th>day_of_week_name_Start</th>\n",
       "      <th>Temperature</th>\n",
       "      <th>Precipitation</th>\n",
       "      <th>clc_code</th>\n",
       "      <th>area_code</th>\n",
       "      <th>Population_Density</th>\n",
       "      <th>Count_Charging</th>\n",
       "      <th>Charging_time_in_hours_log</th>\n",
       "      <th>Charging_time_in_min_log</th>\n",
       "      <th>cord</th>\n",
       "    </tr>\n",
       "  </thead>\n",
       "  <tbody>\n",
       "    <tr>\n",
       "      <th>0</th>\n",
       "      <td>hj_AT*HTB*E100011</td>\n",
       "      <td>2019-02-10 10:28:53.836</td>\n",
       "      <td>2019-02-10 12:54:11.750</td>\n",
       "      <td>Rimsting</td>\n",
       "      <td>hj_AT*HTB*E10001</td>\n",
       "      <td>47.8772</td>\n",
       "      <td>12.3372</td>\n",
       "      <td>83253</td>\n",
       "      <td>2019</td>\n",
       "      <td>February</td>\n",
       "      <td>...</td>\n",
       "      <td>Sunday</td>\n",
       "      <td>5.133333</td>\n",
       "      <td>0.0</td>\n",
       "      <td>Industrial</td>\n",
       "      <td>057740032032</td>\n",
       "      <td>844.328749</td>\n",
       "      <td>159</td>\n",
       "      <td>0.884341</td>\n",
       "      <td>4.978686</td>\n",
       "      <td>(47.8772, 12.3372)</td>\n",
       "    </tr>\n",
       "    <tr>\n",
       "      <th>1</th>\n",
       "      <td>hj_AT*HTB*E100011</td>\n",
       "      <td>2019-02-15 08:33:09.428</td>\n",
       "      <td>2019-02-15 12:37:18.549</td>\n",
       "      <td>Rimsting</td>\n",
       "      <td>hj_AT*HTB*E10001</td>\n",
       "      <td>47.8772</td>\n",
       "      <td>12.3372</td>\n",
       "      <td>83253</td>\n",
       "      <td>2019</td>\n",
       "      <td>February</td>\n",
       "      <td>...</td>\n",
       "      <td>Friday</td>\n",
       "      <td>-2.233333</td>\n",
       "      <td>0.0</td>\n",
       "      <td>Industrial</td>\n",
       "      <td>057740032032</td>\n",
       "      <td>844.328749</td>\n",
       "      <td>159</td>\n",
       "      <td>1.403438</td>\n",
       "      <td>5.497783</td>\n",
       "      <td>(47.8772, 12.3372)</td>\n",
       "    </tr>\n",
       "    <tr>\n",
       "      <th>2</th>\n",
       "      <td>hj_AT*HTB*E100011</td>\n",
       "      <td>2019-02-19 14:12:56.548</td>\n",
       "      <td>2019-02-19 18:55:34.738</td>\n",
       "      <td>Rimsting</td>\n",
       "      <td>hj_AT*HTB*E10001</td>\n",
       "      <td>47.8772</td>\n",
       "      <td>12.3372</td>\n",
       "      <td>83253</td>\n",
       "      <td>2019</td>\n",
       "      <td>February</td>\n",
       "      <td>...</td>\n",
       "      <td>Tuesday</td>\n",
       "      <td>12.133333</td>\n",
       "      <td>0.0</td>\n",
       "      <td>Industrial</td>\n",
       "      <td>057740032032</td>\n",
       "      <td>844.328749</td>\n",
       "      <td>159</td>\n",
       "      <td>1.549806</td>\n",
       "      <td>5.644150</td>\n",
       "      <td>(47.8772, 12.3372)</td>\n",
       "    </tr>\n",
       "    <tr>\n",
       "      <th>3</th>\n",
       "      <td>hj_AT*HTB*E100011</td>\n",
       "      <td>2019-02-23 09:05:08.119</td>\n",
       "      <td>2019-02-23 14:41:49.291</td>\n",
       "      <td>Rimsting</td>\n",
       "      <td>hj_AT*HTB*E10001</td>\n",
       "      <td>47.8772</td>\n",
       "      <td>12.3372</td>\n",
       "      <td>83253</td>\n",
       "      <td>2019</td>\n",
       "      <td>February</td>\n",
       "      <td>...</td>\n",
       "      <td>Saturday</td>\n",
       "      <td>-1.133333</td>\n",
       "      <td>0.0</td>\n",
       "      <td>Industrial</td>\n",
       "      <td>057740032032</td>\n",
       "      <td>844.328749</td>\n",
       "      <td>159</td>\n",
       "      <td>1.724798</td>\n",
       "      <td>5.819143</td>\n",
       "      <td>(47.8772, 12.3372)</td>\n",
       "    </tr>\n",
       "    <tr>\n",
       "      <th>4</th>\n",
       "      <td>hj_AT*HTB*E100011</td>\n",
       "      <td>2019-02-25 11:32:44.019</td>\n",
       "      <td>2019-02-25 12:27:19.368</td>\n",
       "      <td>Rimsting</td>\n",
       "      <td>hj_AT*HTB*E10001</td>\n",
       "      <td>47.8772</td>\n",
       "      <td>12.3372</td>\n",
       "      <td>83253</td>\n",
       "      <td>2019</td>\n",
       "      <td>February</td>\n",
       "      <td>...</td>\n",
       "      <td>Monday</td>\n",
       "      <td>7.666667</td>\n",
       "      <td>0.0</td>\n",
       "      <td>Industrial</td>\n",
       "      <td>057740032032</td>\n",
       "      <td>844.328749</td>\n",
       "      <td>159</td>\n",
       "      <td>-0.094616</td>\n",
       "      <td>3.999729</td>\n",
       "      <td>(47.8772, 12.3372)</td>\n",
       "    </tr>\n",
       "  </tbody>\n",
       "</table>\n",
       "<p>5 rows × 21 columns</p>\n",
       "</div>"
      ],
      "text/plain": [
       "             evse_id          datetime_start           datetime_stop  \\\n",
       "0  hj_AT*HTB*E100011 2019-02-10 10:28:53.836 2019-02-10 12:54:11.750   \n",
       "1  hj_AT*HTB*E100011 2019-02-15 08:33:09.428 2019-02-15 12:37:18.549   \n",
       "2  hj_AT*HTB*E100011 2019-02-19 14:12:56.548 2019-02-19 18:55:34.738   \n",
       "3  hj_AT*HTB*E100011 2019-02-23 09:05:08.119 2019-02-23 14:41:49.291   \n",
       "4  hj_AT*HTB*E100011 2019-02-25 11:32:44.019 2019-02-25 12:27:19.368   \n",
       "\n",
       "       city           park_id  latitude  longitude  postal_code  year  \\\n",
       "0  Rimsting  hj_AT*HTB*E10001   47.8772    12.3372        83253  2019   \n",
       "1  Rimsting  hj_AT*HTB*E10001   47.8772    12.3372        83253  2019   \n",
       "2  Rimsting  hj_AT*HTB*E10001   47.8772    12.3372        83253  2019   \n",
       "3  Rimsting  hj_AT*HTB*E10001   47.8772    12.3372        83253  2019   \n",
       "4  Rimsting  hj_AT*HTB*E10001   47.8772    12.3372        83253  2019   \n",
       "\n",
       "      month  ...  day_of_week_name_Start Temperature  Precipitation  \\\n",
       "0  February  ...                  Sunday    5.133333            0.0   \n",
       "1  February  ...                  Friday   -2.233333            0.0   \n",
       "2  February  ...                 Tuesday   12.133333            0.0   \n",
       "3  February  ...                Saturday   -1.133333            0.0   \n",
       "4  February  ...                  Monday    7.666667            0.0   \n",
       "\n",
       "     clc_code     area_code Population_Density  Count_Charging  \\\n",
       "0  Industrial  057740032032         844.328749             159   \n",
       "1  Industrial  057740032032         844.328749             159   \n",
       "2  Industrial  057740032032         844.328749             159   \n",
       "3  Industrial  057740032032         844.328749             159   \n",
       "4  Industrial  057740032032         844.328749             159   \n",
       "\n",
       "   Charging_time_in_hours_log  Charging_time_in_min_log                cord  \n",
       "0                    0.884341                  4.978686  (47.8772, 12.3372)  \n",
       "1                    1.403438                  5.497783  (47.8772, 12.3372)  \n",
       "2                    1.549806                  5.644150  (47.8772, 12.3372)  \n",
       "3                    1.724798                  5.819143  (47.8772, 12.3372)  \n",
       "4                   -0.094616                  3.999729  (47.8772, 12.3372)  \n",
       "\n",
       "[5 rows x 21 columns]"
      ]
     },
     "execution_count": 9,
     "metadata": {},
     "output_type": "execute_result"
    }
   ],
   "source": [
    "dn.head()"
   ]
  },
  {
   "cell_type": "markdown",
   "id": "d791eb26",
   "metadata": {},
   "source": [
    "# Process "
   ]
  },
  {
   "cell_type": "code",
   "execution_count": 10,
   "id": "cfa7a91e",
   "metadata": {},
   "outputs": [],
   "source": [
    "def  filter_lat_long(cord,th=0.1):\n",
    "    la1,ln1 = cord\n",
    "    dk = df.copy()\n",
    "    return(\n",
    "    dk\n",
    "        [dk[\"lat\"]<=la1+th]\n",
    "        [dk[\"lat\"]>=la1-th]\n",
    "        [dk[\"long\"]<=ln1+th]\n",
    "        [dk[\"long\"]>=ln1-th])\n",
    "\n",
    "    "
   ]
  },
  {
   "cell_type": "code",
   "execution_count": 11,
   "id": "f29b1635",
   "metadata": {},
   "outputs": [
    {
     "name": "stderr",
     "output_type": "stream",
     "text": [
      "<ipython-input-10-3fdbe1c92f06>:5: UserWarning: Boolean Series key will be reindexed to match DataFrame index.\n",
      "  dk\n"
     ]
    },
    {
     "data": {
      "text/html": [
       "<div>\n",
       "<style scoped>\n",
       "    .dataframe tbody tr th:only-of-type {\n",
       "        vertical-align: middle;\n",
       "    }\n",
       "\n",
       "    .dataframe tbody tr th {\n",
       "        vertical-align: top;\n",
       "    }\n",
       "\n",
       "    .dataframe thead th {\n",
       "        text-align: right;\n",
       "    }\n",
       "</style>\n",
       "<table border=\"1\" class=\"dataframe\">\n",
       "  <thead>\n",
       "    <tr style=\"text-align: right;\">\n",
       "      <th></th>\n",
       "      <th>lat</th>\n",
       "      <th>long</th>\n",
       "      <th>cord</th>\n",
       "    </tr>\n",
       "  </thead>\n",
       "  <tbody>\n",
       "    <tr>\n",
       "      <th>1890</th>\n",
       "      <td>47.904159</td>\n",
       "      <td>12.236763</td>\n",
       "      <td>(47.90416, 12.23676)</td>\n",
       "    </tr>\n",
       "    <tr>\n",
       "      <th>1927</th>\n",
       "      <td>47.719769</td>\n",
       "      <td>12.394175</td>\n",
       "      <td>(47.71977, 12.39417)</td>\n",
       "    </tr>\n",
       "    <tr>\n",
       "      <th>2070</th>\n",
       "      <td>47.803337</td>\n",
       "      <td>12.284520</td>\n",
       "      <td>(47.80334, 12.28452)</td>\n",
       "    </tr>\n",
       "    <tr>\n",
       "      <th>2071</th>\n",
       "      <td>47.767393</td>\n",
       "      <td>12.322188</td>\n",
       "      <td>(47.76739, 12.32219)</td>\n",
       "    </tr>\n",
       "    <tr>\n",
       "      <th>2140</th>\n",
       "      <td>47.776295</td>\n",
       "      <td>12.239400</td>\n",
       "      <td>(47.77629, 12.2394)</td>\n",
       "    </tr>\n",
       "    <tr>\n",
       "      <th>2296</th>\n",
       "      <td>47.735636</td>\n",
       "      <td>12.457604</td>\n",
       "      <td>(47.73564, 12.4576)</td>\n",
       "    </tr>\n",
       "  </tbody>\n",
       "</table>\n",
       "</div>"
      ],
      "text/plain": [
       "            lat       long                  cord\n",
       "1890  47.904159  12.236763  (47.90416, 12.23676)\n",
       "1927  47.719769  12.394175  (47.71977, 12.39417)\n",
       "2070  47.803337  12.284520  (47.80334, 12.28452)\n",
       "2071  47.767393  12.322188  (47.76739, 12.32219)\n",
       "2140  47.776295  12.239400   (47.77629, 12.2394)\n",
       "2296  47.735636  12.457604   (47.73564, 12.4576)"
      ]
     },
     "execution_count": 11,
     "metadata": {},
     "output_type": "execute_result"
    }
   ],
   "source": [
    "# 0.1 latitude is 11 km square\n",
    "filter_lat_long(dn.cord.iloc[0],th=0.2)"
   ]
  },
  {
   "cell_type": "code",
   "execution_count": 12,
   "id": "550778b3",
   "metadata": {},
   "outputs": [
    {
     "name": "stdout",
     "output_type": "stream",
     "text": [
      "279.35290160430094\n"
     ]
    }
   ],
   "source": [
    "import geopy\n",
    "from geopy import distance\n",
    "coords_1 = (52.2296756, 21.0122287)\n",
    "coords_2 = (52.406374, 16.9251681)\n",
    "\n",
    "print(distance.distance(coords_1, coords_2).km )\n"
   ]
  },
  {
   "cell_type": "code",
   "execution_count": 13,
   "id": "7ed3f45f",
   "metadata": {},
   "outputs": [],
   "source": [
    "def nearest(c,th=0.1):\n",
    "    dk = filter_lat_long(cord = c,th=th)\n",
    "    if(len(dk)>0):\n",
    "        dk[\"distance\"] = dk.cord.apply(lambda x: distance.distance(c,x))\n",
    "        dk = dk.sort_values(\"distance\",ascending = True)\n",
    "        v  = dk.distance.iloc[0].km\n",
    "    else:\n",
    "        v = 1000\n",
    "    return v"
   ]
  },
  {
   "cell_type": "code",
   "execution_count": 14,
   "id": "b047747a",
   "metadata": {},
   "outputs": [
    {
     "name": "stderr",
     "output_type": "stream",
     "text": [
      "<ipython-input-10-3fdbe1c92f06>:5: UserWarning: Boolean Series key will be reindexed to match DataFrame index.\n",
      "  dk\n"
     ]
    },
    {
     "data": {
      "text/plain": [
       "8.0872615961848"
      ]
     },
     "execution_count": 14,
     "metadata": {},
     "output_type": "execute_result"
    }
   ],
   "source": [
    "nearest(dn.cord.iloc[0],th=0.2)"
   ]
  },
  {
   "cell_type": "code",
   "execution_count": 15,
   "id": "356898c2",
   "metadata": {},
   "outputs": [
    {
     "name": "stderr",
     "output_type": "stream",
     "text": [
      "<ipython-input-10-3fdbe1c92f06>:5: UserWarning: Boolean Series key will be reindexed to match DataFrame index.\n",
      "  dk\n"
     ]
    }
   ],
   "source": [
    "dn[\"Nearest_Community_Centre_km\"] = dn.cord.apply(lambda x :nearest(x,th=0.2))"
   ]
  },
  {
   "cell_type": "code",
   "execution_count": 20,
   "id": "243c1e69",
   "metadata": {},
   "outputs": [],
   "source": [
    "dn.to_pickle(\"Community_Centre_OSM.pickle\")"
   ]
  },
  {
   "cell_type": "code",
   "execution_count": 22,
   "id": "253426aa",
   "metadata": {},
   "outputs": [],
   "source": [
    "dn.to_csv(\"Community_Centre_OSM.csv\")"
   ]
  },
  {
   "cell_type": "code",
   "execution_count": null,
   "id": "813649dd",
   "metadata": {},
   "outputs": [],
   "source": []
  }
 ],
 "metadata": {
  "kernelspec": {
   "display_name": "Python 3",
   "language": "python",
   "name": "python3"
  },
  "language_info": {
   "codemirror_mode": {
    "name": "ipython",
    "version": 3
   },
   "file_extension": ".py",
   "mimetype": "text/x-python",
   "name": "python",
   "nbconvert_exporter": "python",
   "pygments_lexer": "ipython3",
   "version": "3.8.8"
  }
 },
 "nbformat": 4,
 "nbformat_minor": 5
}
