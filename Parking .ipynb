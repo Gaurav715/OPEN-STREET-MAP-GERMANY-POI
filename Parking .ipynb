{
 "cells": [
  {
   "cell_type": "code",
   "execution_count": 1,
   "id": "ff9b576f",
   "metadata": {},
   "outputs": [],
   "source": [
    "import time\n",
    "\n",
    "from osm_runner import Runner  # pip install osm-runner\n",
    "import pandas as pd\n",
    "\n",
    "from arcgis.features import FeatureLayer, GeoAccessor, GeoSeriesAccessor\n",
    "from arcgis.geoenrichment import enrich\n",
    "from arcgis import dissolve_boundaries\n",
    "from arcgis.geometry import project\n",
    "from arcgis.gis import GIS\n",
    "from arcgis.features import FeatureLayer, GeoAccessor, GeoSeriesAccessor\n",
    "from arcgis.geoenrichment import enrich\n",
    "from arcgis import dissolve_boundaries\n",
    "from arcgis.geometry import project\n",
    "from arcgis.gis import GIS\n",
    "import geopy\n",
    "from geopy import distance"
   ]
  },
  {
   "cell_type": "code",
   "execution_count": 2,
   "id": "143fe499",
   "metadata": {},
   "outputs": [],
   "source": [
    "def str_to_cord(x):\n",
    "    lat,long = float(x.split(\",\")[0]),float(x.split(\",\")[1])\n",
    "    return lat,long"
   ]
  },
  {
   "cell_type": "code",
   "execution_count": 3,
   "id": "8aa3bdb9",
   "metadata": {},
   "outputs": [],
   "source": [
    "import requests\n",
    "import json\n",
    "overpass_url = \"http://overpass-api.de/api/interpreter\"\n",
    "overpass_query = \"\"\"\n",
    "[out:json];\n",
    "area[\"ISO3166-1\"=\"DE\"][admin_level=2];\n",
    "(node[\"amenity\"=\"parking_entrance\"](area);\n",
    " way[\"amenity\"=\"parking_entrance\"](area);\n",
    " rel[\"amenity\"=\"parking_entrance\"](area);\n",
    ");\n",
    "out center;\n",
    "\"\"\"\n",
    "response = requests.get(overpass_url, \n",
    "                        params={'data': overpass_query})\n",
    "data_parking_entrance = response.json()"
   ]
  },
  {
   "cell_type": "code",
   "execution_count": 4,
   "id": "57b3faa4",
   "metadata": {},
   "outputs": [
    {
     "data": {
      "image/png": "[encoded data removed]",
      "text/plain": [
       "<Figure size 432x288 with 1 Axes>"
      ]
     },
     "metadata": {
      "needs_background": "light"
     },
     "output_type": "display_data"
    }
   ],
   "source": [
    "import numpy as np\n",
    "import matplotlib.pyplot as plt\n",
    "# Collect coords into list\n",
    "coords = []\n",
    "for element in data_parking_entrance['elements']:\n",
    "    if element['type'] == 'node':\n",
    "        lon = element['lon']\n",
    "        lat = element['lat']\n",
    "        coords.append((lon, lat))\n",
    "    elif 'center' in element:\n",
    "        lon = element['center']['lon']\n",
    "        lat = element['center']['lat']\n",
    "        coords.append((lon, lat))\n",
    "# Convert coordinates into numpy array\n",
    "X = np.array(coords)\n",
    "plt.plot(X[:, 0], X[:, 1], 'o')\n",
    "plt.title('bus_stop in Germany')\n",
    "plt.xlabel('Longitude')\n",
    "plt.ylabel('Latitude')\n",
    "plt.axis('equal')\n",
    "plt.show()"
   ]
  },
  {
   "cell_type": "code",
   "execution_count": 5,
   "id": "f998110f",
   "metadata": {},
   "outputs": [],
   "source": [
    "import pandas as pd\n",
    "df = pd.DataFrame()"
   ]
  },
  {
   "cell_type": "code",
   "execution_count": 6,
   "id": "cd1ce99c",
   "metadata": {},
   "outputs": [],
   "source": [
    "df[\"lat\"] = X[:, 1]\n",
    "df[\"long\"] =X[:, 0]\n",
    "df[\"dummy\"] = df.lat.apply(lambda x: str(round(x,5)))\n",
    "df[\"dummy1\"] = df.long.apply(lambda x: \",\" +str(round(x,5)))\n",
    "df[\"dummy2\"] = df.dummy+df.dummy1\n",
    "df[\"cord\"] = df.dummy2.apply(lambda x: str_to_cord(x))\n",
    "df.drop([\"dummy\",\"dummy1\",\"dummy2\"],axis =1,inplace=True)"
   ]
  },
  {
   "cell_type": "code",
   "execution_count": 7,
   "id": "5cfdcd9d",
   "metadata": {},
   "outputs": [
    {
     "data": {
      "text/html": [
       "<div>\n",
       "<style scoped>\n",
       "    .dataframe tbody tr th:only-of-type {\n",
       "        vertical-align: middle;\n",
       "    }\n",
       "\n",
       "    .dataframe tbody tr th {\n",
       "        vertical-align: top;\n",
       "    }\n",
       "\n",
       "    .dataframe thead th {\n",
       "        text-align: right;\n",
       "    }\n",
       "</style>\n",
       "<table border=\"1\" class=\"dataframe\">\n",
       "  <thead>\n",
       "    <tr style=\"text-align: right;\">\n",
       "      <th></th>\n",
       "      <th>lat</th>\n",
       "      <th>long</th>\n",
       "      <th>cord</th>\n",
       "    </tr>\n",
       "  </thead>\n",
       "  <tbody>\n",
       "    <tr>\n",
       "      <th>0</th>\n",
       "      <td>48.134813</td>\n",
       "      <td>11.389112</td>\n",
       "      <td>(48.13481, 11.38911)</td>\n",
       "    </tr>\n",
       "    <tr>\n",
       "      <th>1</th>\n",
       "      <td>48.267816</td>\n",
       "      <td>11.677585</td>\n",
       "      <td>(48.26782, 11.67758)</td>\n",
       "    </tr>\n",
       "    <tr>\n",
       "      <th>2</th>\n",
       "      <td>49.550292</td>\n",
       "      <td>8.673161</td>\n",
       "      <td>(49.55029, 8.67316)</td>\n",
       "    </tr>\n",
       "    <tr>\n",
       "      <th>3</th>\n",
       "      <td>48.776783</td>\n",
       "      <td>9.178668</td>\n",
       "      <td>(48.77678, 9.17867)</td>\n",
       "    </tr>\n",
       "    <tr>\n",
       "      <th>4</th>\n",
       "      <td>48.992590</td>\n",
       "      <td>8.401958</td>\n",
       "      <td>(48.99259, 8.40196)</td>\n",
       "    </tr>\n",
       "  </tbody>\n",
       "</table>\n",
       "</div>"
      ],
      "text/plain": [
       "         lat       long                  cord\n",
       "0  48.134813  11.389112  (48.13481, 11.38911)\n",
       "1  48.267816  11.677585  (48.26782, 11.67758)\n",
       "2  49.550292   8.673161   (49.55029, 8.67316)\n",
       "3  48.776783   9.178668   (48.77678, 9.17867)\n",
       "4  48.992590   8.401958   (48.99259, 8.40196)"
      ]
     },
     "execution_count": 7,
     "metadata": {},
     "output_type": "execute_result"
    }
   ],
   "source": [
    "df.head()"
   ]
  },
  {
   "cell_type": "code",
   "execution_count": 8,
   "id": "d1f36bc5",
   "metadata": {},
   "outputs": [],
   "source": [
    "dn =pd.read_pickle(\"stats.pickle\")\n",
    "#dn= dn[[\"city\",\"latitude\",\"longitude\",\"park_id\",\"postal_code\"]]\n",
    "dn[\"dummy\"] = dn.latitude.apply(lambda x: str(round(x,5)))\n",
    "dn[\"dummy1\"] = dn.longitude.apply(lambda x: \",\" +str(round(x,5)))\n",
    "dn[\"dummy2\"] = dn.dummy+dn.dummy1\n",
    "dn[\"cord\"] = dn.dummy2.apply(lambda x: str_to_cord(x))\n",
    "dn.drop([\"dummy\",\"dummy1\",\"dummy2\"],axis =1,inplace=True)"
   ]
  },
  {
   "cell_type": "code",
   "execution_count": 9,
   "id": "93b41328",
   "metadata": {},
   "outputs": [],
   "source": [
    "def  filter_lat_long(cord,th=0.1):\n",
    "    la1,ln1 = cord\n",
    "    dk = df.copy()\n",
    "    return(\n",
    "    dk\n",
    "        [dk[\"lat\"]<=la1+th]\n",
    "        [dk[\"lat\"]>=la1-th]\n",
    "        [dk[\"long\"]<=ln1+th]\n",
    "        [dk[\"long\"]>=ln1-th])"
   ]
  },
  {
   "cell_type": "code",
   "execution_count": 10,
   "id": "33933a5c",
   "metadata": {},
   "outputs": [
    {
     "name": "stderr",
     "output_type": "stream",
     "text": [
      "<ipython-input-9-18750887360f>:5: UserWarning: Boolean Series key will be reindexed to match DataFrame index.\n",
      "  dk\n"
     ]
    },
    {
     "data": {
      "text/html": [
       "<div>\n",
       "<style scoped>\n",
       "    .dataframe tbody tr th:only-of-type {\n",
       "        vertical-align: middle;\n",
       "    }\n",
       "\n",
       "    .dataframe tbody tr th {\n",
       "        vertical-align: top;\n",
       "    }\n",
       "\n",
       "    .dataframe thead th {\n",
       "        text-align: right;\n",
       "    }\n",
       "</style>\n",
       "<table border=\"1\" class=\"dataframe\">\n",
       "  <thead>\n",
       "    <tr style=\"text-align: right;\">\n",
       "      <th></th>\n",
       "      <th>lat</th>\n",
       "      <th>long</th>\n",
       "      <th>cord</th>\n",
       "    </tr>\n",
       "  </thead>\n",
       "  <tbody>\n",
       "    <tr>\n",
       "      <th>987</th>\n",
       "      <td>48.058815</td>\n",
       "      <td>12.233341</td>\n",
       "      <td>(48.05881, 12.23334)</td>\n",
       "    </tr>\n",
       "    <tr>\n",
       "      <th>988</th>\n",
       "      <td>48.058799</td>\n",
       "      <td>12.233286</td>\n",
       "      <td>(48.0588, 12.23329)</td>\n",
       "    </tr>\n",
       "    <tr>\n",
       "      <th>3075</th>\n",
       "      <td>47.861624</td>\n",
       "      <td>12.356305</td>\n",
       "      <td>(47.86162, 12.35631)</td>\n",
       "    </tr>\n",
       "    <tr>\n",
       "      <th>3081</th>\n",
       "      <td>47.862403</td>\n",
       "      <td>12.356462</td>\n",
       "      <td>(47.8624, 12.35646)</td>\n",
       "    </tr>\n",
       "    <tr>\n",
       "      <th>3769</th>\n",
       "      <td>47.948518</td>\n",
       "      <td>12.191130</td>\n",
       "      <td>(47.94852, 12.19113)</td>\n",
       "    </tr>\n",
       "    <tr>\n",
       "      <th>5809</th>\n",
       "      <td>47.903356</td>\n",
       "      <td>12.301282</td>\n",
       "      <td>(47.90336, 12.30128)</td>\n",
       "    </tr>\n",
       "    <tr>\n",
       "      <th>6828</th>\n",
       "      <td>48.063148</td>\n",
       "      <td>12.227937</td>\n",
       "      <td>(48.06315, 12.22794)</td>\n",
       "    </tr>\n",
       "    <tr>\n",
       "      <th>8760</th>\n",
       "      <td>48.000053</td>\n",
       "      <td>12.406741</td>\n",
       "      <td>(48.00005, 12.40674)</td>\n",
       "    </tr>\n",
       "    <tr>\n",
       "      <th>12009</th>\n",
       "      <td>47.678082</td>\n",
       "      <td>12.471047</td>\n",
       "      <td>(47.67808, 12.47105)</td>\n",
       "    </tr>\n",
       "    <tr>\n",
       "      <th>14466</th>\n",
       "      <td>48.000196</td>\n",
       "      <td>12.406828</td>\n",
       "      <td>(48.0002, 12.40683)</td>\n",
       "    </tr>\n",
       "    <tr>\n",
       "      <th>14467</th>\n",
       "      <td>48.000227</td>\n",
       "      <td>12.406521</td>\n",
       "      <td>(48.00023, 12.40652)</td>\n",
       "    </tr>\n",
       "    <tr>\n",
       "      <th>14468</th>\n",
       "      <td>48.000196</td>\n",
       "      <td>12.406463</td>\n",
       "      <td>(48.0002, 12.40646)</td>\n",
       "    </tr>\n",
       "    <tr>\n",
       "      <th>17537</th>\n",
       "      <td>47.901884</td>\n",
       "      <td>12.299579</td>\n",
       "      <td>(47.90188, 12.29958)</td>\n",
       "    </tr>\n",
       "    <tr>\n",
       "      <th>17538</th>\n",
       "      <td>47.903457</td>\n",
       "      <td>12.301355</td>\n",
       "      <td>(47.90346, 12.30135)</td>\n",
       "    </tr>\n",
       "  </tbody>\n",
       "</table>\n",
       "</div>"
      ],
      "text/plain": [
       "             lat       long                  cord\n",
       "987    48.058815  12.233341  (48.05881, 12.23334)\n",
       "988    48.058799  12.233286   (48.0588, 12.23329)\n",
       "3075   47.861624  12.356305  (47.86162, 12.35631)\n",
       "3081   47.862403  12.356462   (47.8624, 12.35646)\n",
       "3769   47.948518  12.191130  (47.94852, 12.19113)\n",
       "5809   47.903356  12.301282  (47.90336, 12.30128)\n",
       "6828   48.063148  12.227937  (48.06315, 12.22794)\n",
       "8760   48.000053  12.406741  (48.00005, 12.40674)\n",
       "12009  47.678082  12.471047  (47.67808, 12.47105)\n",
       "14466  48.000196  12.406828   (48.0002, 12.40683)\n",
       "14467  48.000227  12.406521  (48.00023, 12.40652)\n",
       "14468  48.000196  12.406463   (48.0002, 12.40646)\n",
       "17537  47.901884  12.299579  (47.90188, 12.29958)\n",
       "17538  47.903457  12.301355  (47.90346, 12.30135)"
      ]
     },
     "execution_count": 10,
     "metadata": {},
     "output_type": "execute_result"
    }
   ],
   "source": [
    "filter_lat_long(dn.cord.iloc[0],th=0.2)"
   ]
  },
  {
   "cell_type": "code",
   "execution_count": 11,
   "id": "31a83e20",
   "metadata": {},
   "outputs": [],
   "source": [
    "def nearest(c,th=0.1):\n",
    "    dk = filter_lat_long(cord = c,th=th)\n",
    "    if(len(dk)>0):\n",
    "        dk[\"distance\"] = dk.cord.apply(lambda x: distance.distance(c,x))\n",
    "        dk = dk.sort_values(\"distance\",ascending = True)\n",
    "        v  = dk.distance.iloc[0].km\n",
    "    else:\n",
    "        v = 1000\n",
    "    return v"
   ]
  },
  {
   "cell_type": "code",
   "execution_count": 12,
   "id": "62ff32e1",
   "metadata": {},
   "outputs": [
    {
     "name": "stderr",
     "output_type": "stream",
     "text": [
      "<ipython-input-9-18750887360f>:5: UserWarning: Boolean Series key will be reindexed to match DataFrame index.\n",
      "  dk\n"
     ]
    },
    {
     "data": {
      "text/plain": [
       "2.187262074627613"
      ]
     },
     "execution_count": 12,
     "metadata": {},
     "output_type": "execute_result"
    }
   ],
   "source": [
    "nearest(dn.cord.iloc[0],th=0.2)"
   ]
  },
  {
   "cell_type": "code",
   "execution_count": 13,
   "id": "60c6e6a5",
   "metadata": {},
   "outputs": [
    {
     "name": "stderr",
     "output_type": "stream",
     "text": [
      "<ipython-input-9-18750887360f>:5: UserWarning: Boolean Series key will be reindexed to match DataFrame index.\n",
      "  dk\n"
     ]
    }
   ],
   "source": [
    "dn[\"Nearest_Parking_km\"] = dn.cord.apply(lambda x :nearest(x,th=0.2))"
   ]
  },
  {
   "cell_type": "code",
   "execution_count": 14,
   "id": "e0ec2f38",
   "metadata": {},
   "outputs": [],
   "source": [
    "dn.to_pickle(\"parking_OSM.pickle\")"
   ]
  },
  {
   "cell_type": "code",
   "execution_count": 15,
   "id": "1d53acc8",
   "metadata": {},
   "outputs": [],
   "source": [
    "dn.to_csv(\"parking_OSM.csv\")"
   ]
  },
  {
   "cell_type": "code",
   "execution_count": null,
   "id": "4dfe58c2",
   "metadata": {},
   "outputs": [],
   "source": []
  }
 ],
 "metadata": {
  "kernelspec": {
   "display_name": "Python 3",
   "language": "python",
   "name": "python3"
  },
  "language_info": {
   "codemirror_mode": {
    "name": "ipython",
    "version": 3
   },
   "file_extension": ".py",
   "mimetype": "text/x-python",
   "name": "python",
   "nbconvert_exporter": "python",
   "pygments_lexer": "ipython3",
   "version": "3.8.8"
  }
 },
 "nbformat": 4,
 "nbformat_minor": 5
}
