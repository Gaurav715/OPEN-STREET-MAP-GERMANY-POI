{
 "cells": [
  {
   "cell_type": "code",
   "execution_count": 1,
   "id": "ff9b576f",
   "metadata": {},
   "outputs": [],
   "source": [
    "import time\n",
    "\n",
    "from osm_runner import Runner  # pip install osm-runner\n",
    "import pandas as pd\n",
    "\n",
    "from arcgis.features import FeatureLayer, GeoAccessor, GeoSeriesAccessor\n",
    "from arcgis.geoenrichment import enrich\n",
    "from arcgis import dissolve_boundaries\n",
    "from arcgis.geometry import project\n",
    "from arcgis.gis import GIS\n",
    "from arcgis.features import FeatureLayer, GeoAccessor, GeoSeriesAccessor\n",
    "from arcgis.geoenrichment import enrich\n",
    "from arcgis import dissolve_boundaries\n",
    "from arcgis.geometry import project\n",
    "from arcgis.gis import GIS\n",
    "import geopy\n",
    "from geopy import distance"
   ]
  },
  {
   "cell_type": "code",
   "execution_count": 2,
   "id": "143fe499",
   "metadata": {},
   "outputs": [],
   "source": [
    "def str_to_cord(x):\n",
    "    lat,long = float(x.split(\",\")[0]),float(x.split(\",\")[1])\n",
    "    return lat,long"
   ]
  },
  {
   "cell_type": "code",
   "execution_count": 3,
   "id": "8aa3bdb9",
   "metadata": {},
   "outputs": [],
   "source": [
    "import requests\n",
    "import json\n",
    "overpass_url = \"http://overpass-api.de/api/interpreter\"\n",
    "overpass_query = \"\"\"\n",
    "[out:json];\n",
    "area[\"ISO3166-1\"=\"DE\"][admin_level=2];\n",
    "(node[\"amenity\"=\"parking_entrance\"](area);\n",
    " way[\"amenity\"=\"parking_entrance\"](area);\n",
    " rel[\"amenity\"=\"parking_entrance\"](area);\n",
    ");\n",
    "out center;\n",
    "\"\"\"\n",
    "response = requests.get(overpass_url, \n",
    "                        params={'data': overpass_query})\n",
    "data_parking_entrance = response.json()"
   ]
  },
  {
   "cell_type": "code",
   "execution_count": 4,
   "id": "57b3faa4",
   "metadata": {},
   "outputs": [
    {
     "data": {
      "image/png": "[encoded data removed]",
      "text/plain": [
       "<Figure size 432x288 with 1 Axes>"
      ]
     },
     "metadata": {
      "needs_background": "light"
     },
     "output_type": "display_data"
    }
   ],
   "source": [
    "import numpy as np\n",
    "import matplotlib.pyplot as plt\n",
    "# Collect coords into list\n",
    "coords = []\n",
    "for element in data_parking_entrance['elements']:\n",
    "    if element['type'] == 'node':\n",
    "        lon = element['lon']\n",
    "        lat = element['lat']\n",
    "        coords.append((lon, lat))\n",
    "    elif 'center' in element:\n",
    "        lon = element['center']['lon']\n",
    "        lat = element['center']['lat']\n",
    "        coords.append((lon, lat))\n",
    "# Convert coordinates into numpy array\n",
    "X = np.array(coords)\n",
    "plt.plot(X[:, 0], X[:, 1], 'o')\n",
    "plt.title('bus_stop in Germany')\n",
    "plt.xlabel('Longitude')\n",
    "plt.ylabel('Latitude')\n",
    "plt.axis('equal')\n",
    "plt.show()"
   ]
  },
  {
   "cell_type": "code",
   "execution_count": 5,
   "id": "f998110f",
   "metadata": {},
   "outputs": [],
   "source": [
    "import pandas as pd\n",
    "df = pd.DataFrame()"
   ]
  },
  {
   "cell_type": "code",
   "execution_count": 6,
   "id": "cd1ce99c",
   "metadata": {},
   "outputs": [],
   "source": [
    "df[\"lat\"] = X[:, 1]\n",
    "df[\"long\"] =X[:, 0]\n",
    "df[\"dummy\"] = df.lat.apply(lambda x: str(round(x,5)))\n",
    "df[\"dummy1\"] = df.long.apply(lambda x: \",\" +str(round(x,5)))\n",
    "df[\"dummy2\"] = df.dummy+df.dummy1\n",
    "df[\"cord\"] = df.dummy2.apply(lambda x: str_to_cord(x))\n",
    "df.drop([\"dummy\",\"dummy1\",\"dummy2\"],axis =1,inplace=True)"
   ]
  },
  {
   "cell_type": "code",
   "execution_count": 7,
   "id": "5cfdcd9d",
   "metadata": {},
   "outputs": [
    {
     "data": {
      "text/html": [
       "<div>\n",
       "<style scoped>\n",
       "    .dataframe tbody tr th:only-of-type {\n",
       "        vertical-align: middle;\n",
       "    }\n",
       "\n",
       "    .dataframe tbody tr th {\n",
       "        vertical-align: top;\n",
       "    }\n",
       "\n",
       "    .dataframe thead th {\n",
       "        text-align: right;\n",
       "    }\n",
       "</style>\n",
       "<table border=\"1\" class=\"dataframe\">\n",
       "  <thead>\n",
       "    <tr style=\"text-align: right;\">\n",
       "      <th></th>\n",
       "      <th>lat</th>\n",
       "      <th>long</th>\n",
       "      <th>cord</th>\n",
       "    </tr>\n",
       "  </thead>\n",
       "  <tbody>\n",
       "    <tr>\n",
       "      <th>0</th>\n",
       "      <td>48.134813</td>\n",
       "      <td>11.389112</td>\n",
       "      <td>(48.13481, 11.38911)</td>\n",
       "    </tr>\n",
       "    <tr>\n",
       "      <th>1</th>\n",
       "      <td>48.267816</td>\n",
       "      <td>11.677585</td>\n",
       "      <td>(48.26782, 11.67758)</td>\n",
       "    </tr>\n",
       "    <tr>\n",
       "      <th>2</th>\n",
       "      <td>49.550292</td>\n",
       "      <td>8.673161</td>\n",
       "      <td>(49.55029, 8.67316)</td>\n",
       "    </tr>\n",
       "    <tr>\n",
       "      <th>3</th>\n",
       "      <td>48.776783</td>\n",
       "      <td>9.178668</td>\n",
       "      <td>(48.77678, 9.17867)</td>\n",
       "    </tr>\n",
       "    <tr>\n",
       "      <th>4</th>\n",
       "      <td>48.992590</td>\n",
       "      <td>8.401958</td>\n",
       "      <td>(48.99259, 8.40196)</td>\n",
       "    </tr>\n",
       "  </tbody>\n",
       "</table>\n",
       "</div>"
      ],
      "text/plain": [
       "         lat       long                  cord\n",
       "0  48.134813  11.389112  (48.13481, 11.38911)\n",
       "1  48.267816  11.677585  (48.26782, 11.67758)\n",
       "2  49.550292   8.673161   (49.55029, 8.67316)\n",
       "3  48.776783   9.178668   (48.77678, 9.17867)\n",
       "4  48.992590   8.401958   (48.99259, 8.40196)"
      ]
     },
     "execution_count": 7,
     "metadata": {},
     "output_type": "execute_result"
    }
   ],
   "source": [
    "df.head()"
   ]
  },
  {
   "cell_type": "code",
   "execution_count": 8,
   "id": "d1f36bc5",
   "metadata": {},
   "outputs": [],
   "source": [
    "dn =pd.read_pickle(\"d_after_kino_OSM.pickle\")\n",
    "#dn= dn[[\"city\",\"latitude\",\"longitude\",\"park_id\",\"postal_code\"]]\n",
    "dn[\"dummy\"] = dn.latitude.apply(lambda x: str(round(x,5)))\n",
    "dn[\"dummy1\"] = dn.longitude.apply(lambda x: \",\" +str(round(x,5)))\n",
    "dn[\"dummy2\"] = dn.dummy+dn.dummy1\n",
    "dn[\"cord\"] = dn.dummy2.apply(lambda x: str_to_cord(x))\n",
    "dn.drop([\"dummy\",\"dummy1\",\"dummy2\"],axis =1,inplace=True)"
   ]
  },
  {
   "cell_type": "code",
   "execution_count": 9,
   "id": "93b41328",
   "metadata": {},
   "outputs": [],
   "source": [
    "def  filter_lat_long(cord,th=0.1):\n",
    "    la1,ln1 = cord\n",
    "    dk = df.copy()\n",
    "    return(\n",
    "    dk\n",
    "        [dk[\"lat\"]<=la1+th]\n",
    "        [dk[\"lat\"]>=la1-th]\n",
    "        [dk[\"long\"]<=ln1+th]\n",
    "        [dk[\"long\"]>=ln1-th])"
   ]
  },
  {
   "cell_type": "code",
   "execution_count": 10,
   "id": "33933a5c",
   "metadata": {},
   "outputs": [
    {
     "name": "stderr",
     "output_type": "stream",
     "text": [
      "<ipython-input-9-18750887360f>:5: UserWarning: Boolean Series key will be reindexed to match DataFrame index.\n",
      "  dk\n"
     ]
    },
    {
     "data": {
      "text/html": [
       "<div>\n",
       "<style scoped>\n",
       "    .dataframe tbody tr th:only-of-type {\n",
       "        vertical-align: middle;\n",
       "    }\n",
       "\n",
       "    .dataframe tbody tr th {\n",
       "        vertical-align: top;\n",
       "    }\n",
       "\n",
       "    .dataframe thead th {\n",
       "        text-align: right;\n",
       "    }\n",
       "</style>\n",
       "<table border=\"1\" class=\"dataframe\">\n",
       "  <thead>\n",
       "    <tr style=\"text-align: right;\">\n",
       "      <th></th>\n",
       "      <th>lat</th>\n",
       "      <th>long</th>\n",
       "      <th>cord</th>\n",
       "    </tr>\n",
       "  </thead>\n",
       "  <tbody>\n",
       "    <tr>\n",
       "      <th>10068</th>\n",
       "      <td>52.643229</td>\n",
       "      <td>13.206429</td>\n",
       "      <td>(52.64323, 13.20643)</td>\n",
       "    </tr>\n",
       "    <tr>\n",
       "      <th>10069</th>\n",
       "      <td>52.643269</td>\n",
       "      <td>13.206658</td>\n",
       "      <td>(52.64327, 13.20666)</td>\n",
       "    </tr>\n",
       "    <tr>\n",
       "      <th>10171</th>\n",
       "      <td>52.636103</td>\n",
       "      <td>13.204593</td>\n",
       "      <td>(52.6361, 13.20459)</td>\n",
       "    </tr>\n",
       "    <tr>\n",
       "      <th>10252</th>\n",
       "      <td>52.603507</td>\n",
       "      <td>12.881474</td>\n",
       "      <td>(52.60351, 12.88147)</td>\n",
       "    </tr>\n",
       "    <tr>\n",
       "      <th>11240</th>\n",
       "      <td>52.561136</td>\n",
       "      <td>13.091307</td>\n",
       "      <td>(52.56114, 13.09131)</td>\n",
       "    </tr>\n",
       "    <tr>\n",
       "      <th>12533</th>\n",
       "      <td>52.560121</td>\n",
       "      <td>13.089824</td>\n",
       "      <td>(52.56012, 13.08982)</td>\n",
       "    </tr>\n",
       "    <tr>\n",
       "      <th>12535</th>\n",
       "      <td>52.560632</td>\n",
       "      <td>13.094744</td>\n",
       "      <td>(52.56063, 13.09474)</td>\n",
       "    </tr>\n",
       "    <tr>\n",
       "      <th>14196</th>\n",
       "      <td>52.642313</td>\n",
       "      <td>13.199602</td>\n",
       "      <td>(52.64231, 13.1996)</td>\n",
       "    </tr>\n",
       "    <tr>\n",
       "      <th>14373</th>\n",
       "      <td>52.567177</td>\n",
       "      <td>13.210843</td>\n",
       "      <td>(52.56718, 13.21084)</td>\n",
       "    </tr>\n",
       "    <tr>\n",
       "      <th>14374</th>\n",
       "      <td>52.566243</td>\n",
       "      <td>13.210414</td>\n",
       "      <td>(52.56624, 13.21041)</td>\n",
       "    </tr>\n",
       "    <tr>\n",
       "      <th>18218</th>\n",
       "      <td>52.634037</td>\n",
       "      <td>13.208440</td>\n",
       "      <td>(52.63404, 13.20844)</td>\n",
       "    </tr>\n",
       "    <tr>\n",
       "      <th>18219</th>\n",
       "      <td>52.633661</td>\n",
       "      <td>13.209132</td>\n",
       "      <td>(52.63366, 13.20913)</td>\n",
       "    </tr>\n",
       "  </tbody>\n",
       "</table>\n",
       "</div>"
      ],
      "text/plain": [
       "             lat       long                  cord\n",
       "10068  52.643229  13.206429  (52.64323, 13.20643)\n",
       "10069  52.643269  13.206658  (52.64327, 13.20666)\n",
       "10171  52.636103  13.204593   (52.6361, 13.20459)\n",
       "10252  52.603507  12.881474  (52.60351, 12.88147)\n",
       "11240  52.561136  13.091307  (52.56114, 13.09131)\n",
       "12533  52.560121  13.089824  (52.56012, 13.08982)\n",
       "12535  52.560632  13.094744  (52.56063, 13.09474)\n",
       "14196  52.642313  13.199602   (52.64231, 13.1996)\n",
       "14373  52.567177  13.210843  (52.56718, 13.21084)\n",
       "14374  52.566243  13.210414  (52.56624, 13.21041)\n",
       "18218  52.634037  13.208440  (52.63404, 13.20844)\n",
       "18219  52.633661  13.209132  (52.63366, 13.20913)"
      ]
     },
     "execution_count": 10,
     "metadata": {},
     "output_type": "execute_result"
    }
   ],
   "source": [
    "filter_lat_long(dn.cord.iloc[0],th=0.2)"
   ]
  },
  {
   "cell_type": "code",
   "execution_count": 11,
   "id": "31a83e20",
   "metadata": {},
   "outputs": [],
   "source": [
    "def nearest(c,th=0.1):\n",
    "    dk = filter_lat_long(cord = c,th=th)\n",
    "    if(len(dk)>0):\n",
    "        dk[\"distance\"] = dk.cord.apply(lambda x: distance.distance(c,x))\n",
    "        dk = dk.sort_values(\"distance\",ascending = True)\n",
    "        v  = dk.distance.iloc[0].km\n",
    "    else:\n",
    "        v = 1000\n",
    "    return v"
   ]
  },
  {
   "cell_type": "code",
   "execution_count": 12,
   "id": "62ff32e1",
   "metadata": {},
   "outputs": [
    {
     "name": "stderr",
     "output_type": "stream",
     "text": [
      "<ipython-input-9-18750887360f>:5: UserWarning: Boolean Series key will be reindexed to match DataFrame index.\n",
      "  dk\n"
     ]
    },
    {
     "data": {
      "text/plain": [
       "17.647338399126284"
      ]
     },
     "execution_count": 12,
     "metadata": {},
     "output_type": "execute_result"
    }
   ],
   "source": [
    "nearest(dn.cord.iloc[0],th=0.2)"
   ]
  },
  {
   "cell_type": "code",
   "execution_count": 13,
   "id": "60c6e6a5",
   "metadata": {},
   "outputs": [
    {
     "name": "stderr",
     "output_type": "stream",
     "text": [
      "<ipython-input-9-18750887360f>:5: UserWarning: Boolean Series key will be reindexed to match DataFrame index.\n",
      "  dk\n"
     ]
    }
   ],
   "source": [
    "dn[\"Nearest_Parking_km\"] = dn.cord.apply(lambda x :nearest(x,th=0.2))"
   ]
  },
  {
   "cell_type": "code",
   "execution_count": 14,
   "id": "e0ec2f38",
   "metadata": {},
   "outputs": [],
   "source": [
    "dn.to_pickle(\"d_after_parking_OSM.pickle\")"
   ]
  },
  {
   "cell_type": "code",
   "execution_count": 15,
   "id": "1d53acc8",
   "metadata": {},
   "outputs": [],
   "source": [
    "dn.to_csv(\"d_after_parking_OSM.csv\")"
   ]
  },
  {
   "cell_type": "code",
   "execution_count": null,
   "id": "4dfe58c2",
   "metadata": {},
   "outputs": [],
   "source": []
  }
 ],
 "metadata": {
  "kernelspec": {
   "display_name": "Python 3",
   "language": "python",
   "name": "python3"
  },
  "language_info": {
   "codemirror_mode": {
    "name": "ipython",
    "version": 3
   },
   "file_extension": ".py",
   "mimetype": "text/x-python",
   "name": "python",
   "nbconvert_exporter": "python",
   "pygments_lexer": "ipython3",
   "version": "3.8.8"
  }
 },
 "nbformat": 4,
 "nbformat_minor": 5
}
