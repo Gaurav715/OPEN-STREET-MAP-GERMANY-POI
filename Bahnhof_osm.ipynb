{
 "cells": [
  {
   "cell_type": "code",
   "execution_count": 10,
   "id": "facae388",
   "metadata": {},
   "outputs": [],
   "source": [
    "import time\n",
    "\n",
    "from osm_runner import Runner  # pip install osm-runner\n",
    "import pandas as pd\n",
    "\n",
    "from arcgis.features import FeatureLayer, GeoAccessor, GeoSeriesAccessor\n",
    "from arcgis.geoenrichment import enrich\n",
    "from arcgis import dissolve_boundaries\n",
    "from arcgis.geometry import project\n",
    "from arcgis.gis import GIS\n",
    "from arcgis.features import FeatureLayer, GeoAccessor, GeoSeriesAccessor\n",
    "from arcgis.geoenrichment import enrich\n",
    "from arcgis import dissolve_boundaries\n",
    "from arcgis.geometry import project\n",
    "from arcgis.gis import GIS\n",
    "%matplotlib inline\n",
    "\n",
    "import numpy\n",
    "import pandas\n",
    "import geopandas\n",
    "import pysal\n",
    "import seaborn as sns\n",
    "import contextily\n",
    "import matplotlib.pyplot as plt\n",
    "from sklearn.cluster import DBSCAN"
   ]
  },
  {
   "cell_type": "code",
   "execution_count": 3,
   "id": "5eb18876",
   "metadata": {},
   "outputs": [],
   "source": [
    "#!pip install pysal"
   ]
  },
  {
   "cell_type": "code",
   "execution_count": 4,
   "id": "0baa1a18",
   "metadata": {},
   "outputs": [],
   "source": [
    "def str_to_cord(x):\n",
    "    lat,long = float(x.split(\",\")[0]),float(x.split(\",\")[1])\n",
    "    return lat,long"
   ]
  },
  {
   "cell_type": "markdown",
   "id": "878b94df",
   "metadata": {},
   "source": [
    "# Bahnhof"
   ]
  },
  {
   "cell_type": "code",
   "execution_count": 9,
   "id": "1d55a188",
   "metadata": {},
   "outputs": [],
   "source": [
    "import requests\n",
    "import json\n",
    "overpass_url = \"http://overpass-api.de/api/interpreter\"\n",
    "overpass_query = \"\"\"\n",
    "[out:json];\n",
    "area[\"ISO3166-1\"=\"DE\"][admin_level=2];\n",
    "(node[\"name\"=\"Bahnhof\"](area);\n",
    " way[\"name\"=\"Bahnhof\"](area);\n",
    " rel[\"name\"=\"Bahnhof\"](area);\n",
    ");\n",
    "out center;\n",
    "\"\"\"\n",
    "response = requests.get(overpass_url, \n",
    "                        params={'data': overpass_query})\n",
    "data_Bahnhof = response.json()"
   ]
  },
  {
   "cell_type": "code",
   "execution_count": 6,
   "id": "6fb0313a",
   "metadata": {},
   "outputs": [
    {
     "data": {
      "image/png": "[encoded data removed]",
      "text/plain": [
       "<Figure size 432x288 with 1 Axes>"
      ]
     },
     "metadata": {
      "needs_background": "light"
     },
     "output_type": "display_data"
    }
   ],
   "source": [
    "import numpy as np\n",
    "import matplotlib.pyplot as plt\n",
    "# Collect coords into list\n",
    "coords = []\n",
    "for element in data_Bahnhof['elements']:\n",
    "    if element['type'] == 'node':\n",
    "        lon = element['lon']\n",
    "        lat = element['lat']\n",
    "        coords.append((lon, lat))\n",
    "    elif 'center' in element:\n",
    "        lon = element['center']['lon']\n",
    "        lat = element['center']['lat']\n",
    "        coords.append((lon, lat))\n",
    "# Convert coordinates into numpy array\n",
    "X = np.array(coords)\n",
    "plt.plot(X[:, 0], X[:, 1], 'o')\n",
    "plt.title('Bahnhof in Germany')\n",
    "plt.xlabel('Longitude')\n",
    "plt.ylabel('Latitude')\n",
    "plt.axis('equal')\n",
    "plt.show()"
   ]
  },
  {
   "cell_type": "code",
   "execution_count": 5,
   "id": "c88d6394",
   "metadata": {},
   "outputs": [],
   "source": [
    "import pandas as pd\n",
    "df = pd.DataFrame()"
   ]
  },
  {
   "cell_type": "code",
   "execution_count": 6,
   "id": "c4fa64ea",
   "metadata": {},
   "outputs": [],
   "source": [
    "df[\"lat\"] = X[:, 1]\n",
    "df[\"long\"] =X[:, 0]\n",
    "df[\"dummy\"] = df.lat.apply(lambda x: str(round(x,5)))\n",
    "df[\"dummy1\"] = df.long.apply(lambda x: \",\" +str(round(x,5)))\n",
    "df[\"dummy2\"] = df.dummy+df.dummy1\n",
    "df[\"cord\"] = df.dummy2.apply(lambda x: str_to_cord(x))\n",
    "df.drop([\"dummy\",\"dummy1\",\"dummy2\"],axis =1,inplace=True)"
   ]
  },
  {
   "cell_type": "code",
   "execution_count": 7,
   "id": "0b3f0359",
   "metadata": {},
   "outputs": [
    {
     "data": {
      "text/html": [
       "<div>\n",
       "<style scoped>\n",
       "    .dataframe tbody tr th:only-of-type {\n",
       "        vertical-align: middle;\n",
       "    }\n",
       "\n",
       "    .dataframe tbody tr th {\n",
       "        vertical-align: top;\n",
       "    }\n",
       "\n",
       "    .dataframe thead th {\n",
       "        text-align: right;\n",
       "    }\n",
       "</style>\n",
       "<table border=\"1\" class=\"dataframe\">\n",
       "  <thead>\n",
       "    <tr style=\"text-align: right;\">\n",
       "      <th></th>\n",
       "      <th>lat</th>\n",
       "      <th>long</th>\n",
       "      <th>cord</th>\n",
       "    </tr>\n",
       "  </thead>\n",
       "  <tbody>\n",
       "    <tr>\n",
       "      <th>0</th>\n",
       "      <td>52.484531</td>\n",
       "      <td>8.011190</td>\n",
       "      <td>(52.48453, 8.01119)</td>\n",
       "    </tr>\n",
       "    <tr>\n",
       "      <th>1</th>\n",
       "      <td>52.484674</td>\n",
       "      <td>8.011273</td>\n",
       "      <td>(52.48467, 8.01127)</td>\n",
       "    </tr>\n",
       "    <tr>\n",
       "      <th>2</th>\n",
       "      <td>49.697984</td>\n",
       "      <td>10.805289</td>\n",
       "      <td>(49.69798, 10.80529)</td>\n",
       "    </tr>\n",
       "    <tr>\n",
       "      <th>3</th>\n",
       "      <td>53.769484</td>\n",
       "      <td>7.689019</td>\n",
       "      <td>(53.76948, 7.68902)</td>\n",
       "    </tr>\n",
       "    <tr>\n",
       "      <th>4</th>\n",
       "      <td>50.036696</td>\n",
       "      <td>8.605767</td>\n",
       "      <td>(50.0367, 8.60577)</td>\n",
       "    </tr>\n",
       "  </tbody>\n",
       "</table>\n",
       "</div>"
      ],
      "text/plain": [
       "         lat       long                  cord\n",
       "0  52.484531   8.011190   (52.48453, 8.01119)\n",
       "1  52.484674   8.011273   (52.48467, 8.01127)\n",
       "2  49.697984  10.805289  (49.69798, 10.80529)\n",
       "3  53.769484   7.689019   (53.76948, 7.68902)\n",
       "4  50.036696   8.605767    (50.0367, 8.60577)"
      ]
     },
     "execution_count": 7,
     "metadata": {},
     "output_type": "execute_result"
    }
   ],
   "source": [
    "df.head()"
   ]
  },
  {
   "cell_type": "code",
   "execution_count": 8,
   "id": "991f579a",
   "metadata": {},
   "outputs": [],
   "source": [
    "dn =pd.read_pickle(\"Endresult_v1.pickle\")\n",
    "#dn= dn[[\"city\",\"latitude\",\"longitude\",\"park_id\",\"postal_code\"]]\n",
    "dn[\"dummy\"] = dn.latitude.apply(lambda x: str(round(x,5)))\n",
    "dn[\"dummy1\"] = dn.longitude.apply(lambda x: \",\" +str(round(x,5)))\n",
    "dn[\"dummy2\"] = dn.dummy+dn.dummy1\n",
    "dn[\"cord\"] = dn.dummy2.apply(lambda x: str_to_cord(x))\n",
    "dn.drop([\"dummy\",\"dummy1\",\"dummy2\"],axis =1,inplace=True)"
   ]
  },
  {
   "cell_type": "code",
   "execution_count": 9,
   "id": "8689d822",
   "metadata": {},
   "outputs": [
    {
     "data": {
      "text/html": [
       "<div>\n",
       "<style scoped>\n",
       "    .dataframe tbody tr th:only-of-type {\n",
       "        vertical-align: middle;\n",
       "    }\n",
       "\n",
       "    .dataframe tbody tr th {\n",
       "        vertical-align: top;\n",
       "    }\n",
       "\n",
       "    .dataframe thead th {\n",
       "        text-align: right;\n",
       "    }\n",
       "</style>\n",
       "<table border=\"1\" class=\"dataframe\">\n",
       "  <thead>\n",
       "    <tr style=\"text-align: right;\">\n",
       "      <th></th>\n",
       "      <th>park_id</th>\n",
       "      <th>clc_code</th>\n",
       "      <th>area_code</th>\n",
       "      <th>evse_id</th>\n",
       "      <th>datetime_start</th>\n",
       "      <th>datetime_stop</th>\n",
       "      <th>Charging_Started</th>\n",
       "      <th>Charging_Stop</th>\n",
       "      <th>city</th>\n",
       "      <th>latitude</th>\n",
       "      <th>...</th>\n",
       "      <th>year</th>\n",
       "      <th>month</th>\n",
       "      <th>day</th>\n",
       "      <th>day_of_week_name_Start</th>\n",
       "      <th>Precipitation</th>\n",
       "      <th>Temperature</th>\n",
       "      <th>pd</th>\n",
       "      <th>Count_Charging</th>\n",
       "      <th>Charging_time_in_hours_log</th>\n",
       "      <th>cord</th>\n",
       "    </tr>\n",
       "  </thead>\n",
       "  <tbody>\n",
       "    <tr>\n",
       "      <th>0</th>\n",
       "      <td>hj_31c455b8-420e-46af-bce6-436b65ccc416</td>\n",
       "      <td>Suburban</td>\n",
       "      <td>120650165165</td>\n",
       "      <td>hj_DE*BLN*E*174060033</td>\n",
       "      <td>2019-12-17 09:00:13.369</td>\n",
       "      <td>2019-12-17 09:00:13.058</td>\n",
       "      <td>1.0</td>\n",
       "      <td>0.0</td>\n",
       "      <td>Kremmen</td>\n",
       "      <td>52.7596</td>\n",
       "      <td>...</td>\n",
       "      <td>2019.0</td>\n",
       "      <td>12.0</td>\n",
       "      <td>17.0</td>\n",
       "      <td>Tuesday</td>\n",
       "      <td>0.0</td>\n",
       "      <td>9.566667</td>\n",
       "      <td>158.737964</td>\n",
       "      <td>58</td>\n",
       "      <td>3.178042</td>\n",
       "      <td>(52.7596, 13.0239)</td>\n",
       "    </tr>\n",
       "    <tr>\n",
       "      <th>1</th>\n",
       "      <td>hj_31c455b8-420e-46af-bce6-436b65ccc416</td>\n",
       "      <td>Suburban</td>\n",
       "      <td>120650165165</td>\n",
       "      <td>hj_DE*BLN*E*174060033</td>\n",
       "      <td>2019-12-17 09:00:13.369</td>\n",
       "      <td>2019-12-17 09:01:16.290</td>\n",
       "      <td>1.0</td>\n",
       "      <td>0.0</td>\n",
       "      <td>Kremmen</td>\n",
       "      <td>52.7596</td>\n",
       "      <td>...</td>\n",
       "      <td>2019.0</td>\n",
       "      <td>12.0</td>\n",
       "      <td>17.0</td>\n",
       "      <td>Tuesday</td>\n",
       "      <td>0.0</td>\n",
       "      <td>9.566667</td>\n",
       "      <td>158.737964</td>\n",
       "      <td>58</td>\n",
       "      <td>-4.061555</td>\n",
       "      <td>(52.7596, 13.0239)</td>\n",
       "    </tr>\n",
       "    <tr>\n",
       "      <th>2</th>\n",
       "      <td>hj_31c455b8-420e-46af-bce6-436b65ccc416</td>\n",
       "      <td>Suburban</td>\n",
       "      <td>120650165165</td>\n",
       "      <td>hj_DE*BLN*E*174060033</td>\n",
       "      <td>2019-12-17 09:00:13.369</td>\n",
       "      <td>2019-12-17 09:58:30.703</td>\n",
       "      <td>1.0</td>\n",
       "      <td>0.0</td>\n",
       "      <td>Kremmen</td>\n",
       "      <td>52.7596</td>\n",
       "      <td>...</td>\n",
       "      <td>2019.0</td>\n",
       "      <td>12.0</td>\n",
       "      <td>17.0</td>\n",
       "      <td>Tuesday</td>\n",
       "      <td>0.0</td>\n",
       "      <td>9.566667</td>\n",
       "      <td>158.737964</td>\n",
       "      <td>58</td>\n",
       "      <td>-0.029028</td>\n",
       "      <td>(52.7596, 13.0239)</td>\n",
       "    </tr>\n",
       "    <tr>\n",
       "      <th>3</th>\n",
       "      <td>hj_31c455b8-420e-46af-bce6-436b65ccc416</td>\n",
       "      <td>Suburban</td>\n",
       "      <td>120650165165</td>\n",
       "      <td>hj_DE*BLN*E*174060033</td>\n",
       "      <td>2019-12-17 09:58:28.352</td>\n",
       "      <td>2019-12-17 09:00:13.058</td>\n",
       "      <td>1.0</td>\n",
       "      <td>0.0</td>\n",
       "      <td>Kremmen</td>\n",
       "      <td>52.7596</td>\n",
       "      <td>...</td>\n",
       "      <td>2019.0</td>\n",
       "      <td>12.0</td>\n",
       "      <td>17.0</td>\n",
       "      <td>Tuesday</td>\n",
       "      <td>0.0</td>\n",
       "      <td>9.566667</td>\n",
       "      <td>158.737964</td>\n",
       "      <td>58</td>\n",
       "      <td>3.136749</td>\n",
       "      <td>(52.7596, 13.0239)</td>\n",
       "    </tr>\n",
       "    <tr>\n",
       "      <th>4</th>\n",
       "      <td>hj_31c455b8-420e-46af-bce6-436b65ccc416</td>\n",
       "      <td>Suburban</td>\n",
       "      <td>120650165165</td>\n",
       "      <td>hj_DE*BLN*E*174060033</td>\n",
       "      <td>2019-12-17 09:58:28.352</td>\n",
       "      <td>2019-12-17 09:01:16.290</td>\n",
       "      <td>1.0</td>\n",
       "      <td>0.0</td>\n",
       "      <td>Kremmen</td>\n",
       "      <td>52.7596</td>\n",
       "      <td>...</td>\n",
       "      <td>2019.0</td>\n",
       "      <td>12.0</td>\n",
       "      <td>17.0</td>\n",
       "      <td>Tuesday</td>\n",
       "      <td>0.0</td>\n",
       "      <td>9.566667</td>\n",
       "      <td>158.737964</td>\n",
       "      <td>58</td>\n",
       "      <td>3.137509</td>\n",
       "      <td>(52.7596, 13.0239)</td>\n",
       "    </tr>\n",
       "  </tbody>\n",
       "</table>\n",
       "<p>5 rows × 23 columns</p>\n",
       "</div>"
      ],
      "text/plain": [
       "                                   park_id  clc_code     area_code  \\\n",
       "0  hj_31c455b8-420e-46af-bce6-436b65ccc416  Suburban  120650165165   \n",
       "1  hj_31c455b8-420e-46af-bce6-436b65ccc416  Suburban  120650165165   \n",
       "2  hj_31c455b8-420e-46af-bce6-436b65ccc416  Suburban  120650165165   \n",
       "3  hj_31c455b8-420e-46af-bce6-436b65ccc416  Suburban  120650165165   \n",
       "4  hj_31c455b8-420e-46af-bce6-436b65ccc416  Suburban  120650165165   \n",
       "\n",
       "                 evse_id          datetime_start           datetime_stop  \\\n",
       "0  hj_DE*BLN*E*174060033 2019-12-17 09:00:13.369 2019-12-17 09:00:13.058   \n",
       "1  hj_DE*BLN*E*174060033 2019-12-17 09:00:13.369 2019-12-17 09:01:16.290   \n",
       "2  hj_DE*BLN*E*174060033 2019-12-17 09:00:13.369 2019-12-17 09:58:30.703   \n",
       "3  hj_DE*BLN*E*174060033 2019-12-17 09:58:28.352 2019-12-17 09:00:13.058   \n",
       "4  hj_DE*BLN*E*174060033 2019-12-17 09:58:28.352 2019-12-17 09:01:16.290   \n",
       "\n",
       "  Charging_Started Charging_Stop     city  latitude  ...    year month   day  \\\n",
       "0              1.0           0.0  Kremmen   52.7596  ...  2019.0  12.0  17.0   \n",
       "1              1.0           0.0  Kremmen   52.7596  ...  2019.0  12.0  17.0   \n",
       "2              1.0           0.0  Kremmen   52.7596  ...  2019.0  12.0  17.0   \n",
       "3              1.0           0.0  Kremmen   52.7596  ...  2019.0  12.0  17.0   \n",
       "4              1.0           0.0  Kremmen   52.7596  ...  2019.0  12.0  17.0   \n",
       "\n",
       "  day_of_week_name_Start Precipitation Temperature          pd  \\\n",
       "0                Tuesday           0.0    9.566667  158.737964   \n",
       "1                Tuesday           0.0    9.566667  158.737964   \n",
       "2                Tuesday           0.0    9.566667  158.737964   \n",
       "3                Tuesday           0.0    9.566667  158.737964   \n",
       "4                Tuesday           0.0    9.566667  158.737964   \n",
       "\n",
       "   Count_Charging  Charging_time_in_hours_log                cord  \n",
       "0              58                    3.178042  (52.7596, 13.0239)  \n",
       "1              58                   -4.061555  (52.7596, 13.0239)  \n",
       "2              58                   -0.029028  (52.7596, 13.0239)  \n",
       "3              58                    3.136749  (52.7596, 13.0239)  \n",
       "4              58                    3.137509  (52.7596, 13.0239)  \n",
       "\n",
       "[5 rows x 23 columns]"
      ]
     },
     "execution_count": 9,
     "metadata": {},
     "output_type": "execute_result"
    }
   ],
   "source": [
    "dn.head()"
   ]
  },
  {
   "cell_type": "code",
   "execution_count": 10,
   "id": "4f1ab207",
   "metadata": {},
   "outputs": [],
   "source": [
    "def  filter_lat_long(cord,th=0.1):\n",
    "    la1,ln1 = cord\n",
    "    dk = df.copy()\n",
    "    return(\n",
    "    dk\n",
    "        [dk[\"lat\"]<=la1+th]\n",
    "        [dk[\"lat\"]>=la1-th]\n",
    "        [dk[\"long\"]<=ln1+th]\n",
    "        [dk[\"long\"]>=ln1-th])\n"
   ]
  },
  {
   "cell_type": "code",
   "execution_count": 11,
   "id": "6a39d24d",
   "metadata": {},
   "outputs": [
    {
     "name": "stderr",
     "output_type": "stream",
     "text": [
      "<ipython-input-10-18750887360f>:5: UserWarning: Boolean Series key will be reindexed to match DataFrame index.\n",
      "  dk\n"
     ]
    },
    {
     "data": {
      "text/html": [
       "<div>\n",
       "<style scoped>\n",
       "    .dataframe tbody tr th:only-of-type {\n",
       "        vertical-align: middle;\n",
       "    }\n",
       "\n",
       "    .dataframe tbody tr th {\n",
       "        vertical-align: top;\n",
       "    }\n",
       "\n",
       "    .dataframe thead th {\n",
       "        text-align: right;\n",
       "    }\n",
       "</style>\n",
       "<table border=\"1\" class=\"dataframe\">\n",
       "  <thead>\n",
       "    <tr style=\"text-align: right;\">\n",
       "      <th></th>\n",
       "      <th>lat</th>\n",
       "      <th>long</th>\n",
       "      <th>cord</th>\n",
       "    </tr>\n",
       "  </thead>\n",
       "  <tbody>\n",
       "    <tr>\n",
       "      <th>143</th>\n",
       "      <td>52.722530</td>\n",
       "      <td>13.112962</td>\n",
       "      <td>(52.72253, 13.11296)</td>\n",
       "    </tr>\n",
       "    <tr>\n",
       "      <th>1407</th>\n",
       "      <td>52.722544</td>\n",
       "      <td>13.112823</td>\n",
       "      <td>(52.72254, 13.11282)</td>\n",
       "    </tr>\n",
       "    <tr>\n",
       "      <th>1408</th>\n",
       "      <td>52.722504</td>\n",
       "      <td>13.113121</td>\n",
       "      <td>(52.7225, 13.11312)</td>\n",
       "    </tr>\n",
       "  </tbody>\n",
       "</table>\n",
       "</div>"
      ],
      "text/plain": [
       "            lat       long                  cord\n",
       "143   52.722530  13.112962  (52.72253, 13.11296)\n",
       "1407  52.722544  13.112823  (52.72254, 13.11282)\n",
       "1408  52.722504  13.113121   (52.7225, 13.11312)"
      ]
     },
     "execution_count": 11,
     "metadata": {},
     "output_type": "execute_result"
    }
   ],
   "source": [
    "# 0.1 latitude is 11 km square\n",
    "filter_lat_long(dn.cord.iloc[0],th=0.1)"
   ]
  },
  {
   "cell_type": "code",
   "execution_count": 12,
   "id": "2b478cdf",
   "metadata": {},
   "outputs": [
    {
     "name": "stdout",
     "output_type": "stream",
     "text": [
      "279.35290160430094\n"
     ]
    }
   ],
   "source": [
    "import geopy\n",
    "from geopy import distance\n",
    "coords_1 = (52.2296756, 21.0122287)\n",
    "coords_2 = (52.406374, 16.9251681)\n",
    "\n",
    "print(distance.distance(coords_1, coords_2).km )"
   ]
  },
  {
   "cell_type": "code",
   "execution_count": 13,
   "id": "1e49d3b6",
   "metadata": {},
   "outputs": [],
   "source": [
    "def nearest(c,th=0.1):\n",
    "    dk = filter_lat_long(cord = c,th=th)\n",
    "    if(len(dk)>0):\n",
    "        dk[\"distance\"] = dk.cord.apply(lambda x: distance.distance(c,x))\n",
    "        dk = dk.sort_values(\"distance\",ascending = True)\n",
    "        v  = dk.distance.iloc[0].km\n",
    "    else:\n",
    "        v = 1000\n",
    "    return v"
   ]
  },
  {
   "cell_type": "code",
   "execution_count": 14,
   "id": "4e931e9c",
   "metadata": {},
   "outputs": [
    {
     "name": "stderr",
     "output_type": "stream",
     "text": [
      "<ipython-input-10-18750887360f>:5: UserWarning: Boolean Series key will be reindexed to match DataFrame index.\n",
      "  dk\n"
     ]
    },
    {
     "data": {
      "text/plain": [
       "7.285194994512359"
      ]
     },
     "execution_count": 14,
     "metadata": {},
     "output_type": "execute_result"
    }
   ],
   "source": [
    "nearest(dn.cord.iloc[0],th=0.2)"
   ]
  },
  {
   "cell_type": "code",
   "execution_count": 15,
   "id": "f987dcdf",
   "metadata": {},
   "outputs": [
    {
     "name": "stderr",
     "output_type": "stream",
     "text": [
      "<ipython-input-10-18750887360f>:5: UserWarning: Boolean Series key will be reindexed to match DataFrame index.\n",
      "  dk\n"
     ]
    }
   ],
   "source": [
    "dn[\"Nearest_Bahnhof_km\"] = dn.cord.apply(lambda x :nearest(x,th=0.2))"
   ]
  },
  {
   "cell_type": "code",
   "execution_count": 16,
   "id": "a5dbcf90",
   "metadata": {},
   "outputs": [],
   "source": [
    "dn.to_pickle(\"d_after_bahnhof_OSM.pickle\")"
   ]
  },
  {
   "cell_type": "code",
   "execution_count": 17,
   "id": "b9d87ad7",
   "metadata": {},
   "outputs": [],
   "source": [
    "dn.to_csv(\"d_after_bahnhof_OSM.csv\")"
   ]
  },
  {
   "cell_type": "code",
   "execution_count": null,
   "id": "45559052",
   "metadata": {},
   "outputs": [],
   "source": []
  }
 ],
 "metadata": {
  "kernelspec": {
   "display_name": "Python 3",
   "language": "python",
   "name": "python3"
  },
  "language_info": {
   "codemirror_mode": {
    "name": "ipython",
    "version": 3
   },
   "file_extension": ".py",
   "mimetype": "text/x-python",
   "name": "python",
   "nbconvert_exporter": "python",
   "pygments_lexer": "ipython3",
   "version": "3.8.8"
  }
 },
 "nbformat": 4,
 "nbformat_minor": 5
}
