{
 "cells": [
  {
   "cell_type": "code",
   "execution_count": 1,
   "id": "facae388",
   "metadata": {},
   "outputs": [],
   "source": [
    "import time\n",
    "\n",
    "from osm_runner import Runner  # pip install osm-runner\n",
    "import pandas as pd\n",
    "\n",
    "from arcgis.features import FeatureLayer, GeoAccessor, GeoSeriesAccessor\n",
    "from arcgis.geoenrichment import enrich\n",
    "from arcgis import dissolve_boundaries\n",
    "from arcgis.geometry import project\n",
    "from arcgis.gis import GIS\n",
    "from arcgis.features import FeatureLayer, GeoAccessor, GeoSeriesAccessor\n",
    "from arcgis.geoenrichment import enrich\n",
    "from arcgis import dissolve_boundaries\n",
    "from arcgis.geometry import project\n",
    "from arcgis.gis import GIS"
   ]
  },
  {
   "cell_type": "code",
   "execution_count": 2,
   "id": "0baa1a18",
   "metadata": {},
   "outputs": [],
   "source": [
    "def str_to_cord(x):\n",
    "    lat,long = float(x.split(\",\")[0]),float(x.split(\",\")[1])\n",
    "    return lat,long"
   ]
  },
  {
   "cell_type": "markdown",
   "id": "878b94df",
   "metadata": {},
   "source": [
    "# Bahnhof"
   ]
  },
  {
   "cell_type": "code",
   "execution_count": 3,
   "id": "1d55a188",
   "metadata": {},
   "outputs": [],
   "source": [
    "import requests\n",
    "import json\n",
    "overpass_url = \"http://overpass-api.de/api/interpreter\"\n",
    "overpass_query = \"\"\"\n",
    "[out:json];\n",
    "area[\"ISO3166-1\"=\"DE\"][admin_level=2];\n",
    "(node[\"name\"=\"Bahnhof\"](area);\n",
    " way[\"name\"=\"Bahnhof\"](area);\n",
    " rel[\"name\"=\"Bahnhof\"](area);\n",
    ");\n",
    "out center;\n",
    "\"\"\"\n",
    "response = requests.get(overpass_url, \n",
    "                        params={'data': overpass_query})\n",
    "data_Bahnhof = response.json()"
   ]
  },
  {
   "cell_type": "code",
   "execution_count": 4,
   "id": "6fb0313a",
   "metadata": {},
   "outputs": [
    {
     "data": {
      "image/png": "[encoded data removed]",
      "text/plain": [
       "<Figure size 432x288 with 1 Axes>"
      ]
     },
     "metadata": {
      "needs_background": "light"
     },
     "output_type": "display_data"
    }
   ],
   "source": [
    "import numpy as np\n",
    "import matplotlib.pyplot as plt\n",
    "# Collect coords into list\n",
    "coords = []\n",
    "for element in data_Bahnhof['elements']:\n",
    "    if element['type'] == 'node':\n",
    "        lon = element['lon']\n",
    "        lat = element['lat']\n",
    "        coords.append((lon, lat))\n",
    "    elif 'center' in element:\n",
    "        lon = element['center']['lon']\n",
    "        lat = element['center']['lat']\n",
    "        coords.append((lon, lat))\n",
    "# Convert coordinates into numpy array\n",
    "X = np.array(coords)\n",
    "plt.plot(X[:, 0], X[:, 1], 'o')\n",
    "plt.title('Bahnhof in Germany')\n",
    "plt.xlabel('Longitude')\n",
    "plt.ylabel('Latitude')\n",
    "plt.axis('equal')\n",
    "plt.show()"
   ]
  },
  {
   "cell_type": "code",
   "execution_count": 5,
   "id": "c88d6394",
   "metadata": {},
   "outputs": [],
   "source": [
    "import pandas as pd\n",
    "df = pd.DataFrame()"
   ]
  },
  {
   "cell_type": "code",
   "execution_count": 6,
   "id": "c4fa64ea",
   "metadata": {},
   "outputs": [],
   "source": [
    "df[\"lat\"] = X[:, 1]\n",
    "df[\"long\"] =X[:, 0]\n",
    "df[\"dummy\"] = df.lat.apply(lambda x: str(round(x,5)))\n",
    "df[\"dummy1\"] = df.long.apply(lambda x: \",\" +str(round(x,5)))\n",
    "df[\"dummy2\"] = df.dummy+df.dummy1\n",
    "df[\"cord\"] = df.dummy2.apply(lambda x: str_to_cord(x))\n",
    "df.drop([\"dummy\",\"dummy1\",\"dummy2\"],axis =1,inplace=True)"
   ]
  },
  {
   "cell_type": "code",
   "execution_count": 7,
   "id": "0b3f0359",
   "metadata": {},
   "outputs": [
    {
     "data": {
      "text/html": [
       "<div>\n",
       "<style scoped>\n",
       "    .dataframe tbody tr th:only-of-type {\n",
       "        vertical-align: middle;\n",
       "    }\n",
       "\n",
       "    .dataframe tbody tr th {\n",
       "        vertical-align: top;\n",
       "    }\n",
       "\n",
       "    .dataframe thead th {\n",
       "        text-align: right;\n",
       "    }\n",
       "</style>\n",
       "<table border=\"1\" class=\"dataframe\">\n",
       "  <thead>\n",
       "    <tr style=\"text-align: right;\">\n",
       "      <th></th>\n",
       "      <th>lat</th>\n",
       "      <th>long</th>\n",
       "      <th>cord</th>\n",
       "    </tr>\n",
       "  </thead>\n",
       "  <tbody>\n",
       "    <tr>\n",
       "      <th>0</th>\n",
       "      <td>52.484531</td>\n",
       "      <td>8.011190</td>\n",
       "      <td>(52.48453, 8.01119)</td>\n",
       "    </tr>\n",
       "    <tr>\n",
       "      <th>1</th>\n",
       "      <td>52.484674</td>\n",
       "      <td>8.011273</td>\n",
       "      <td>(52.48467, 8.01127)</td>\n",
       "    </tr>\n",
       "    <tr>\n",
       "      <th>2</th>\n",
       "      <td>49.697984</td>\n",
       "      <td>10.805289</td>\n",
       "      <td>(49.69798, 10.80529)</td>\n",
       "    </tr>\n",
       "    <tr>\n",
       "      <th>3</th>\n",
       "      <td>53.769484</td>\n",
       "      <td>7.689019</td>\n",
       "      <td>(53.76948, 7.68902)</td>\n",
       "    </tr>\n",
       "    <tr>\n",
       "      <th>4</th>\n",
       "      <td>50.036696</td>\n",
       "      <td>8.605767</td>\n",
       "      <td>(50.0367, 8.60577)</td>\n",
       "    </tr>\n",
       "  </tbody>\n",
       "</table>\n",
       "</div>"
      ],
      "text/plain": [
       "         lat       long                  cord\n",
       "0  52.484531   8.011190   (52.48453, 8.01119)\n",
       "1  52.484674   8.011273   (52.48467, 8.01127)\n",
       "2  49.697984  10.805289  (49.69798, 10.80529)\n",
       "3  53.769484   7.689019   (53.76948, 7.68902)\n",
       "4  50.036696   8.605767    (50.0367, 8.60577)"
      ]
     },
     "execution_count": 7,
     "metadata": {},
     "output_type": "execute_result"
    }
   ],
   "source": [
    "df.head()"
   ]
  },
  {
   "cell_type": "code",
   "execution_count": 8,
   "id": "991f579a",
   "metadata": {},
   "outputs": [],
   "source": [
    "dn =pd.read_pickle(\"stats.pickle\")\n",
    "#dn= dn[[\"city\",\"latitude\",\"longitude\",\"park_id\",\"postal_code\"]]\n",
    "dn[\"dummy\"] = dn.latitude.apply(lambda x: str(round(x,5)))\n",
    "dn[\"dummy1\"] = dn.longitude.apply(lambda x: \",\" +str(round(x,5)))\n",
    "dn[\"dummy2\"] = dn.dummy+dn.dummy1\n",
    "dn[\"cord\"] = dn.dummy2.apply(lambda x: str_to_cord(x))\n",
    "dn.drop([\"dummy\",\"dummy1\",\"dummy2\"],axis =1,inplace=True)"
   ]
  },
  {
   "cell_type": "code",
   "execution_count": 9,
   "id": "8689d822",
   "metadata": {},
   "outputs": [
    {
     "data": {
      "text/html": [
       "<div>\n",
       "<style scoped>\n",
       "    .dataframe tbody tr th:only-of-type {\n",
       "        vertical-align: middle;\n",
       "    }\n",
       "\n",
       "    .dataframe tbody tr th {\n",
       "        vertical-align: top;\n",
       "    }\n",
       "\n",
       "    .dataframe thead th {\n",
       "        text-align: right;\n",
       "    }\n",
       "</style>\n",
       "<table border=\"1\" class=\"dataframe\">\n",
       "  <thead>\n",
       "    <tr style=\"text-align: right;\">\n",
       "      <th></th>\n",
       "      <th>evse_id</th>\n",
       "      <th>datetime_start</th>\n",
       "      <th>datetime_stop</th>\n",
       "      <th>city</th>\n",
       "      <th>park_id</th>\n",
       "      <th>latitude</th>\n",
       "      <th>longitude</th>\n",
       "      <th>postal_code</th>\n",
       "      <th>year</th>\n",
       "      <th>month</th>\n",
       "      <th>...</th>\n",
       "      <th>day_of_week_name_Start</th>\n",
       "      <th>Temperature</th>\n",
       "      <th>Precipitation</th>\n",
       "      <th>clc_code</th>\n",
       "      <th>area_code</th>\n",
       "      <th>Population_Density</th>\n",
       "      <th>Count_Charging</th>\n",
       "      <th>Charging_time_in_hours_log</th>\n",
       "      <th>Charging_time_in_min_log</th>\n",
       "      <th>cord</th>\n",
       "    </tr>\n",
       "  </thead>\n",
       "  <tbody>\n",
       "    <tr>\n",
       "      <th>0</th>\n",
       "      <td>hj_AT*HTB*E100011</td>\n",
       "      <td>2019-02-10 10:28:53.836</td>\n",
       "      <td>2019-02-10 12:54:11.750</td>\n",
       "      <td>Rimsting</td>\n",
       "      <td>hj_AT*HTB*E10001</td>\n",
       "      <td>47.8772</td>\n",
       "      <td>12.3372</td>\n",
       "      <td>83253</td>\n",
       "      <td>2019</td>\n",
       "      <td>February</td>\n",
       "      <td>...</td>\n",
       "      <td>Sunday</td>\n",
       "      <td>5.133333</td>\n",
       "      <td>0.0</td>\n",
       "      <td>Industrial</td>\n",
       "      <td>057740032032</td>\n",
       "      <td>844.328749</td>\n",
       "      <td>159</td>\n",
       "      <td>0.884341</td>\n",
       "      <td>4.978686</td>\n",
       "      <td>(47.8772, 12.3372)</td>\n",
       "    </tr>\n",
       "    <tr>\n",
       "      <th>1</th>\n",
       "      <td>hj_AT*HTB*E100011</td>\n",
       "      <td>2019-02-15 08:33:09.428</td>\n",
       "      <td>2019-02-15 12:37:18.549</td>\n",
       "      <td>Rimsting</td>\n",
       "      <td>hj_AT*HTB*E10001</td>\n",
       "      <td>47.8772</td>\n",
       "      <td>12.3372</td>\n",
       "      <td>83253</td>\n",
       "      <td>2019</td>\n",
       "      <td>February</td>\n",
       "      <td>...</td>\n",
       "      <td>Friday</td>\n",
       "      <td>-2.233333</td>\n",
       "      <td>0.0</td>\n",
       "      <td>Industrial</td>\n",
       "      <td>057740032032</td>\n",
       "      <td>844.328749</td>\n",
       "      <td>159</td>\n",
       "      <td>1.403438</td>\n",
       "      <td>5.497783</td>\n",
       "      <td>(47.8772, 12.3372)</td>\n",
       "    </tr>\n",
       "    <tr>\n",
       "      <th>2</th>\n",
       "      <td>hj_AT*HTB*E100011</td>\n",
       "      <td>2019-02-19 14:12:56.548</td>\n",
       "      <td>2019-02-19 18:55:34.738</td>\n",
       "      <td>Rimsting</td>\n",
       "      <td>hj_AT*HTB*E10001</td>\n",
       "      <td>47.8772</td>\n",
       "      <td>12.3372</td>\n",
       "      <td>83253</td>\n",
       "      <td>2019</td>\n",
       "      <td>February</td>\n",
       "      <td>...</td>\n",
       "      <td>Tuesday</td>\n",
       "      <td>12.133333</td>\n",
       "      <td>0.0</td>\n",
       "      <td>Industrial</td>\n",
       "      <td>057740032032</td>\n",
       "      <td>844.328749</td>\n",
       "      <td>159</td>\n",
       "      <td>1.549806</td>\n",
       "      <td>5.644150</td>\n",
       "      <td>(47.8772, 12.3372)</td>\n",
       "    </tr>\n",
       "    <tr>\n",
       "      <th>3</th>\n",
       "      <td>hj_AT*HTB*E100011</td>\n",
       "      <td>2019-02-23 09:05:08.119</td>\n",
       "      <td>2019-02-23 14:41:49.291</td>\n",
       "      <td>Rimsting</td>\n",
       "      <td>hj_AT*HTB*E10001</td>\n",
       "      <td>47.8772</td>\n",
       "      <td>12.3372</td>\n",
       "      <td>83253</td>\n",
       "      <td>2019</td>\n",
       "      <td>February</td>\n",
       "      <td>...</td>\n",
       "      <td>Saturday</td>\n",
       "      <td>-1.133333</td>\n",
       "      <td>0.0</td>\n",
       "      <td>Industrial</td>\n",
       "      <td>057740032032</td>\n",
       "      <td>844.328749</td>\n",
       "      <td>159</td>\n",
       "      <td>1.724798</td>\n",
       "      <td>5.819143</td>\n",
       "      <td>(47.8772, 12.3372)</td>\n",
       "    </tr>\n",
       "    <tr>\n",
       "      <th>4</th>\n",
       "      <td>hj_AT*HTB*E100011</td>\n",
       "      <td>2019-02-25 11:32:44.019</td>\n",
       "      <td>2019-02-25 12:27:19.368</td>\n",
       "      <td>Rimsting</td>\n",
       "      <td>hj_AT*HTB*E10001</td>\n",
       "      <td>47.8772</td>\n",
       "      <td>12.3372</td>\n",
       "      <td>83253</td>\n",
       "      <td>2019</td>\n",
       "      <td>February</td>\n",
       "      <td>...</td>\n",
       "      <td>Monday</td>\n",
       "      <td>7.666667</td>\n",
       "      <td>0.0</td>\n",
       "      <td>Industrial</td>\n",
       "      <td>057740032032</td>\n",
       "      <td>844.328749</td>\n",
       "      <td>159</td>\n",
       "      <td>-0.094616</td>\n",
       "      <td>3.999729</td>\n",
       "      <td>(47.8772, 12.3372)</td>\n",
       "    </tr>\n",
       "  </tbody>\n",
       "</table>\n",
       "<p>5 rows × 21 columns</p>\n",
       "</div>"
      ],
      "text/plain": [
       "             evse_id          datetime_start           datetime_stop  \\\n",
       "0  hj_AT*HTB*E100011 2019-02-10 10:28:53.836 2019-02-10 12:54:11.750   \n",
       "1  hj_AT*HTB*E100011 2019-02-15 08:33:09.428 2019-02-15 12:37:18.549   \n",
       "2  hj_AT*HTB*E100011 2019-02-19 14:12:56.548 2019-02-19 18:55:34.738   \n",
       "3  hj_AT*HTB*E100011 2019-02-23 09:05:08.119 2019-02-23 14:41:49.291   \n",
       "4  hj_AT*HTB*E100011 2019-02-25 11:32:44.019 2019-02-25 12:27:19.368   \n",
       "\n",
       "       city           park_id  latitude  longitude  postal_code  year  \\\n",
       "0  Rimsting  hj_AT*HTB*E10001   47.8772    12.3372        83253  2019   \n",
       "1  Rimsting  hj_AT*HTB*E10001   47.8772    12.3372        83253  2019   \n",
       "2  Rimsting  hj_AT*HTB*E10001   47.8772    12.3372        83253  2019   \n",
       "3  Rimsting  hj_AT*HTB*E10001   47.8772    12.3372        83253  2019   \n",
       "4  Rimsting  hj_AT*HTB*E10001   47.8772    12.3372        83253  2019   \n",
       "\n",
       "      month  ...  day_of_week_name_Start Temperature  Precipitation  \\\n",
       "0  February  ...                  Sunday    5.133333            0.0   \n",
       "1  February  ...                  Friday   -2.233333            0.0   \n",
       "2  February  ...                 Tuesday   12.133333            0.0   \n",
       "3  February  ...                Saturday   -1.133333            0.0   \n",
       "4  February  ...                  Monday    7.666667            0.0   \n",
       "\n",
       "     clc_code     area_code Population_Density  Count_Charging  \\\n",
       "0  Industrial  057740032032         844.328749             159   \n",
       "1  Industrial  057740032032         844.328749             159   \n",
       "2  Industrial  057740032032         844.328749             159   \n",
       "3  Industrial  057740032032         844.328749             159   \n",
       "4  Industrial  057740032032         844.328749             159   \n",
       "\n",
       "   Charging_time_in_hours_log  Charging_time_in_min_log                cord  \n",
       "0                    0.884341                  4.978686  (47.8772, 12.3372)  \n",
       "1                    1.403438                  5.497783  (47.8772, 12.3372)  \n",
       "2                    1.549806                  5.644150  (47.8772, 12.3372)  \n",
       "3                    1.724798                  5.819143  (47.8772, 12.3372)  \n",
       "4                   -0.094616                  3.999729  (47.8772, 12.3372)  \n",
       "\n",
       "[5 rows x 21 columns]"
      ]
     },
     "execution_count": 9,
     "metadata": {},
     "output_type": "execute_result"
    }
   ],
   "source": [
    "dn.head()"
   ]
  },
  {
   "cell_type": "code",
   "execution_count": 10,
   "id": "4f1ab207",
   "metadata": {},
   "outputs": [],
   "source": [
    "def  filter_lat_long(cord,th=0.1):\n",
    "    la1,ln1 = cord\n",
    "    dk = df.copy()\n",
    "    return(\n",
    "    dk\n",
    "        [dk[\"lat\"]<=la1+th]\n",
    "        [dk[\"lat\"]>=la1-th]\n",
    "        [dk[\"long\"]<=ln1+th]\n",
    "        [dk[\"long\"]>=ln1-th])\n"
   ]
  },
  {
   "cell_type": "code",
   "execution_count": 14,
   "id": "6a39d24d",
   "metadata": {},
   "outputs": [
    {
     "name": "stderr",
     "output_type": "stream",
     "text": [
      "<ipython-input-10-18750887360f>:5: UserWarning: Boolean Series key will be reindexed to match DataFrame index.\n",
      "  dk\n"
     ]
    },
    {
     "data": {
      "text/html": [
       "<div>\n",
       "<style scoped>\n",
       "    .dataframe tbody tr th:only-of-type {\n",
       "        vertical-align: middle;\n",
       "    }\n",
       "\n",
       "    .dataframe tbody tr th {\n",
       "        vertical-align: top;\n",
       "    }\n",
       "\n",
       "    .dataframe thead th {\n",
       "        text-align: right;\n",
       "    }\n",
       "</style>\n",
       "<table border=\"1\" class=\"dataframe\">\n",
       "  <thead>\n",
       "    <tr style=\"text-align: right;\">\n",
       "      <th></th>\n",
       "      <th>lat</th>\n",
       "      <th>long</th>\n",
       "      <th>cord</th>\n",
       "    </tr>\n",
       "  </thead>\n",
       "  <tbody>\n",
       "    <tr>\n",
       "      <th>1303</th>\n",
       "      <td>47.816399</td>\n",
       "      <td>12.380543</td>\n",
       "      <td>(47.8164, 12.38054)</td>\n",
       "    </tr>\n",
       "    <tr>\n",
       "      <th>2166</th>\n",
       "      <td>47.816346</td>\n",
       "      <td>12.380499</td>\n",
       "      <td>(47.81635, 12.3805)</td>\n",
       "    </tr>\n",
       "  </tbody>\n",
       "</table>\n",
       "</div>"
      ],
      "text/plain": [
       "            lat       long                 cord\n",
       "1303  47.816399  12.380543  (47.8164, 12.38054)\n",
       "2166  47.816346  12.380499  (47.81635, 12.3805)"
      ]
     },
     "execution_count": 14,
     "metadata": {},
     "output_type": "execute_result"
    }
   ],
   "source": [
    "# 0.1 latitude is 11 km square\n",
    "filter_lat_long(dn.cord.iloc[0],th=0.1)"
   ]
  },
  {
   "cell_type": "code",
   "execution_count": 17,
   "id": "2b478cdf",
   "metadata": {},
   "outputs": [
    {
     "name": "stdout",
     "output_type": "stream",
     "text": [
      "279.35290160430094\n"
     ]
    }
   ],
   "source": [
    "import geopy\n",
    "from geopy import distance\n",
    "coords_1 = (52.2296756, 21.0122287)\n",
    "coords_2 = (52.406374, 16.9251681)\n",
    "\n",
    "print(distance.distance(coords_1, coords_2).km )"
   ]
  },
  {
   "cell_type": "code",
   "execution_count": 15,
   "id": "1e49d3b6",
   "metadata": {},
   "outputs": [],
   "source": [
    "def nearest(c,th=0.1):\n",
    "    dk = filter_lat_long(cord = c,th=th)\n",
    "    if(len(dk)>0):\n",
    "        dk[\"distance\"] = dk.cord.apply(lambda x: distance.distance(c,x))\n",
    "        dk = dk.sort_values(\"distance\",ascending = True)\n",
    "        v  = dk.distance.iloc[0].km\n",
    "    else:\n",
    "        v = 1000\n",
    "    return v"
   ]
  },
  {
   "cell_type": "code",
   "execution_count": 18,
   "id": "4e931e9c",
   "metadata": {},
   "outputs": [
    {
     "name": "stderr",
     "output_type": "stream",
     "text": [
      "<ipython-input-10-18750887360f>:5: UserWarning: Boolean Series key will be reindexed to match DataFrame index.\n",
      "  dk\n"
     ]
    },
    {
     "data": {
      "text/plain": [
       "7.498171845549429"
      ]
     },
     "execution_count": 18,
     "metadata": {},
     "output_type": "execute_result"
    }
   ],
   "source": [
    "nearest(dn.cord.iloc[0],th=0.2)"
   ]
  },
  {
   "cell_type": "code",
   "execution_count": 19,
   "id": "f987dcdf",
   "metadata": {},
   "outputs": [
    {
     "name": "stderr",
     "output_type": "stream",
     "text": [
      "<ipython-input-10-18750887360f>:5: UserWarning: Boolean Series key will be reindexed to match DataFrame index.\n",
      "  dk\n"
     ]
    }
   ],
   "source": [
    "dn[\"Nearest_Bahnhof_km\"] = dn.cord.apply(lambda x :nearest(x,th=0.2))"
   ]
  },
  {
   "cell_type": "code",
   "execution_count": 21,
   "id": "a5dbcf90",
   "metadata": {},
   "outputs": [],
   "source": [
    "dn.to_pickle(\"bahnhof_OSM.pickle\")"
   ]
  },
  {
   "cell_type": "code",
   "execution_count": 22,
   "id": "b9d87ad7",
   "metadata": {},
   "outputs": [],
   "source": [
    "dn.to_csv(\"bahnhof_OSM.csv\")"
   ]
  },
  {
   "cell_type": "code",
   "execution_count": null,
   "id": "45559052",
   "metadata": {},
   "outputs": [],
   "source": []
  }
 ],
 "metadata": {
  "kernelspec": {
   "display_name": "Python 3",
   "language": "python",
   "name": "python3"
  },
  "language_info": {
   "codemirror_mode": {
    "name": "ipython",
    "version": 3
   },
   "file_extension": ".py",
   "mimetype": "text/x-python",
   "name": "python",
   "nbconvert_exporter": "python",
   "pygments_lexer": "ipython3",
   "version": "3.8.8"
  }
 },
 "nbformat": 4,
 "nbformat_minor": 5
}
